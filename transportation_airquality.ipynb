{
 "cells": [
  {
   "cell_type": "markdown",
   "metadata": {},
   "source": [
    "# The Impact of Transportation Methods on Air Quality in Big Cities\n",
    "\n",
    "**Objective**: To analyze the relationship between transportation habits and air quality in urban areas to promote sustainable transportation options.\n",
    "\n",
    "**Target Variable**: Air Quality (from metric_subcat_label)\n",
    "\n",
    "**Relevant Independent Variables** (from metric_item_label):\n",
    "- Public Transportation Use, \n",
    "- Drives Alone to Work, \n",
    "- Walking to Work, \n",
    "- Riding Bike to Work (from metric_item_label)\n"
   ]
  },
  {
   "cell_type": "markdown",
   "metadata": {},
   "source": [
    "## 0. Requirements"
   ]
  },
  {
   "cell_type": "code",
   "execution_count": 32,
   "metadata": {},
   "outputs": [],
   "source": [
    "from folium.plugins import HeatMap\n",
    "from geopy.geocoders import Nominatim\n",
    "from sklearn.cluster import AgglomerativeClustering, KMeans\n",
    "from sklearn.ensemble import RandomForestRegressor\n",
    "from sklearn.feature_selection import RFE\n",
    "from sklearn.linear_model import LogisticRegression\n",
    "from sklearn.metrics import f1_score\n",
    "from sklearn.mixture import GaussianMixture\n",
    "from sklearn.model_selection import train_test_split\n",
    "from sklearn.preprocessing import StandardScaler\n",
    "\n",
    "import folium\n",
    "import matplotlib.pyplot as plt\n",
    "import numpy as np\n",
    "import pandas as pd\n",
    "import seaborn as sns\n",
    "\n"
   ]
  },
  {
   "cell_type": "markdown",
   "metadata": {},
   "source": [
    "## 1. Motivation and Dataset Exploration\n",
    "- What was your goal for the end user's experience?"
   ]
  },
  {
   "cell_type": "code",
   "execution_count": null,
   "metadata": {},
   "outputs": [
    {
     "name": "stderr",
     "output_type": "stream",
     "text": [
      "C:\\Users\\Lau\\AppData\\Local\\Temp\\ipykernel_3304\\878469504.py:2: DtypeWarning: Columns (17) have mixed types. Specify dtype option on import or set low_memory=False.\n",
      "  data = pd.read_csv('BigCitiesHealth.csv')\n"
     ]
    },
    {
     "data": {
      "text/html": [
       "<div>\n",
       "<style scoped>\n",
       "    .dataframe tbody tr th:only-of-type {\n",
       "        vertical-align: middle;\n",
       "    }\n",
       "\n",
       "    .dataframe tbody tr th {\n",
       "        vertical-align: top;\n",
       "    }\n",
       "\n",
       "    .dataframe thead th {\n",
       "        text-align: right;\n",
       "    }\n",
       "</style>\n",
       "<table border=\"1\" class=\"dataframe\">\n",
       "  <thead>\n",
       "    <tr style=\"text-align: right;\">\n",
       "      <th></th>\n",
       "      <th>metric_item_label</th>\n",
       "      <th>metric_cat_label</th>\n",
       "      <th>metric_subcat_label</th>\n",
       "      <th>metric_item_label_subtitle</th>\n",
       "      <th>metric_cat_item_yaxis_label</th>\n",
       "      <th>metric_source_desc_label_fn</th>\n",
       "      <th>metric_source_desc_label_url_fn</th>\n",
       "      <th>geo_label_city</th>\n",
       "      <th>geo_label_state</th>\n",
       "      <th>geo_label_citystate</th>\n",
       "      <th>...</th>\n",
       "      <th>value_90_ci_low</th>\n",
       "      <th>value_90_ci_high</th>\n",
       "      <th>geo_strata_region</th>\n",
       "      <th>geo_strata_poverty</th>\n",
       "      <th>geo_strata_Population</th>\n",
       "      <th>geo_strata_PopDensity</th>\n",
       "      <th>geo_strata_Segregation</th>\n",
       "      <th>strata_race_label</th>\n",
       "      <th>strata_sex_label</th>\n",
       "      <th>strata_race_sex_label</th>\n",
       "    </tr>\n",
       "  </thead>\n",
       "  <tbody>\n",
       "    <tr>\n",
       "      <th>0</th>\n",
       "      <td>COVID-19 Deaths</td>\n",
       "      <td>Infectious Diseases</td>\n",
       "      <td>Respiratory Infection</td>\n",
       "      <td>Deaths from COVID-19 (per 100,000 population, ...</td>\n",
       "      <td>Per 100,000</td>\n",
       "      <td>National Vital Statistics System (NVSS), Cente...</td>\n",
       "      <td>https://www.cdc.gov/nchs/nvss/index.htm</td>\n",
       "      <td>San Antonio</td>\n",
       "      <td>TX</td>\n",
       "      <td>San Antonio, TX</td>\n",
       "      <td>...</td>\n",
       "      <td>NaN</td>\n",
       "      <td>NaN</td>\n",
       "      <td>South</td>\n",
       "      <td>Less poor cities (&lt;20% poor)</td>\n",
       "      <td>Largest (&gt;1.3 million)</td>\n",
       "      <td>Lower pop. density (&lt;10k per sq mi)</td>\n",
       "      <td>Less Segregated (&lt;50%)</td>\n",
       "      <td>White</td>\n",
       "      <td>Male</td>\n",
       "      <td>White Male</td>\n",
       "    </tr>\n",
       "    <tr>\n",
       "      <th>1</th>\n",
       "      <td>COVID-19 Deaths</td>\n",
       "      <td>Infectious Diseases</td>\n",
       "      <td>Respiratory Infection</td>\n",
       "      <td>Deaths from COVID-19 (per 100,000 population, ...</td>\n",
       "      <td>Per 100,000</td>\n",
       "      <td>National Vital Statistics System (NVSS), Cente...</td>\n",
       "      <td>https://www.cdc.gov/nchs/nvss/index.htm</td>\n",
       "      <td>Houston</td>\n",
       "      <td>TX</td>\n",
       "      <td>Houston, TX</td>\n",
       "      <td>...</td>\n",
       "      <td>NaN</td>\n",
       "      <td>NaN</td>\n",
       "      <td>South</td>\n",
       "      <td>Poorest cities (20%+ poor)</td>\n",
       "      <td>Largest (&gt;1.3 million)</td>\n",
       "      <td>Lower pop. density (&lt;10k per sq mi)</td>\n",
       "      <td>Highly Segregated (50%+)</td>\n",
       "      <td>White</td>\n",
       "      <td>Male</td>\n",
       "      <td>White Male</td>\n",
       "    </tr>\n",
       "    <tr>\n",
       "      <th>2</th>\n",
       "      <td>COVID-19 Deaths</td>\n",
       "      <td>Infectious Diseases</td>\n",
       "      <td>Respiratory Infection</td>\n",
       "      <td>Deaths from COVID-19 (per 100,000 population, ...</td>\n",
       "      <td>Per 100,000</td>\n",
       "      <td>National Vital Statistics System (NVSS), Cente...</td>\n",
       "      <td>https://www.cdc.gov/nchs/nvss/index.htm</td>\n",
       "      <td>Fort Worth</td>\n",
       "      <td>TX</td>\n",
       "      <td>Fort Worth, TX</td>\n",
       "      <td>...</td>\n",
       "      <td>NaN</td>\n",
       "      <td>NaN</td>\n",
       "      <td>South</td>\n",
       "      <td>Less poor cities (&lt;20% poor)</td>\n",
       "      <td>Smaller (&lt;1.3 million)</td>\n",
       "      <td>Lower pop. density (&lt;10k per sq mi)</td>\n",
       "      <td>Less Segregated (&lt;50%)</td>\n",
       "      <td>White</td>\n",
       "      <td>Male</td>\n",
       "      <td>White Male</td>\n",
       "    </tr>\n",
       "    <tr>\n",
       "      <th>3</th>\n",
       "      <td>COVID-19 Deaths</td>\n",
       "      <td>Infectious Diseases</td>\n",
       "      <td>Respiratory Infection</td>\n",
       "      <td>Deaths from COVID-19 (per 100,000 population, ...</td>\n",
       "      <td>Per 100,000</td>\n",
       "      <td>National Vital Statistics System (NVSS), Cente...</td>\n",
       "      <td>https://www.cdc.gov/nchs/nvss/index.htm</td>\n",
       "      <td>El Paso</td>\n",
       "      <td>TX</td>\n",
       "      <td>El Paso, TX</td>\n",
       "      <td>...</td>\n",
       "      <td>NaN</td>\n",
       "      <td>NaN</td>\n",
       "      <td>South</td>\n",
       "      <td>Less poor cities (&lt;20% poor)</td>\n",
       "      <td>Smaller (&lt;1.3 million)</td>\n",
       "      <td>Lower pop. density (&lt;10k per sq mi)</td>\n",
       "      <td>Less Segregated (&lt;50%)</td>\n",
       "      <td>White</td>\n",
       "      <td>Male</td>\n",
       "      <td>White Male</td>\n",
       "    </tr>\n",
       "    <tr>\n",
       "      <th>4</th>\n",
       "      <td>COVID-19 Deaths</td>\n",
       "      <td>Infectious Diseases</td>\n",
       "      <td>Respiratory Infection</td>\n",
       "      <td>Deaths from COVID-19 (per 100,000 population, ...</td>\n",
       "      <td>Per 100,000</td>\n",
       "      <td>National Vital Statistics System (NVSS), Cente...</td>\n",
       "      <td>https://www.cdc.gov/nchs/nvss/index.htm</td>\n",
       "      <td>Dallas</td>\n",
       "      <td>TX</td>\n",
       "      <td>Dallas, TX</td>\n",
       "      <td>...</td>\n",
       "      <td>NaN</td>\n",
       "      <td>NaN</td>\n",
       "      <td>South</td>\n",
       "      <td>Less poor cities (&lt;20% poor)</td>\n",
       "      <td>Largest (&gt;1.3 million)</td>\n",
       "      <td>Lower pop. density (&lt;10k per sq mi)</td>\n",
       "      <td>Highly Segregated (50%+)</td>\n",
       "      <td>White</td>\n",
       "      <td>Male</td>\n",
       "      <td>White Male</td>\n",
       "    </tr>\n",
       "  </tbody>\n",
       "</table>\n",
       "<p>5 rows × 31 columns</p>\n",
       "</div>"
      ],
      "text/plain": [
       "  metric_item_label     metric_cat_label    metric_subcat_label  \\\n",
       "0   COVID-19 Deaths  Infectious Diseases  Respiratory Infection   \n",
       "1   COVID-19 Deaths  Infectious Diseases  Respiratory Infection   \n",
       "2   COVID-19 Deaths  Infectious Diseases  Respiratory Infection   \n",
       "3   COVID-19 Deaths  Infectious Diseases  Respiratory Infection   \n",
       "4   COVID-19 Deaths  Infectious Diseases  Respiratory Infection   \n",
       "\n",
       "                          metric_item_label_subtitle  \\\n",
       "0  Deaths from COVID-19 (per 100,000 population, ...   \n",
       "1  Deaths from COVID-19 (per 100,000 population, ...   \n",
       "2  Deaths from COVID-19 (per 100,000 population, ...   \n",
       "3  Deaths from COVID-19 (per 100,000 population, ...   \n",
       "4  Deaths from COVID-19 (per 100,000 population, ...   \n",
       "\n",
       "  metric_cat_item_yaxis_label  \\\n",
       "0                 Per 100,000   \n",
       "1                 Per 100,000   \n",
       "2                 Per 100,000   \n",
       "3                 Per 100,000   \n",
       "4                 Per 100,000   \n",
       "\n",
       "                         metric_source_desc_label_fn  \\\n",
       "0  National Vital Statistics System (NVSS), Cente...   \n",
       "1  National Vital Statistics System (NVSS), Cente...   \n",
       "2  National Vital Statistics System (NVSS), Cente...   \n",
       "3  National Vital Statistics System (NVSS), Cente...   \n",
       "4  National Vital Statistics System (NVSS), Cente...   \n",
       "\n",
       "           metric_source_desc_label_url_fn geo_label_city geo_label_state  \\\n",
       "0  https://www.cdc.gov/nchs/nvss/index.htm    San Antonio              TX   \n",
       "1  https://www.cdc.gov/nchs/nvss/index.htm        Houston              TX   \n",
       "2  https://www.cdc.gov/nchs/nvss/index.htm     Fort Worth              TX   \n",
       "3  https://www.cdc.gov/nchs/nvss/index.htm        El Paso              TX   \n",
       "4  https://www.cdc.gov/nchs/nvss/index.htm         Dallas              TX   \n",
       "\n",
       "  geo_label_citystate  ...  value_90_ci_low  value_90_ci_high  \\\n",
       "0     San Antonio, TX  ...              NaN               NaN   \n",
       "1         Houston, TX  ...              NaN               NaN   \n",
       "2      Fort Worth, TX  ...              NaN               NaN   \n",
       "3         El Paso, TX  ...              NaN               NaN   \n",
       "4          Dallas, TX  ...              NaN               NaN   \n",
       "\n",
       "   geo_strata_region            geo_strata_poverty   geo_strata_Population  \\\n",
       "0              South  Less poor cities (<20% poor)  Largest (>1.3 million)   \n",
       "1              South    Poorest cities (20%+ poor)  Largest (>1.3 million)   \n",
       "2              South  Less poor cities (<20% poor)  Smaller (<1.3 million)   \n",
       "3              South  Less poor cities (<20% poor)  Smaller (<1.3 million)   \n",
       "4              South  Less poor cities (<20% poor)  Largest (>1.3 million)   \n",
       "\n",
       "                 geo_strata_PopDensity    geo_strata_Segregation  \\\n",
       "0  Lower pop. density (<10k per sq mi)    Less Segregated (<50%)   \n",
       "1  Lower pop. density (<10k per sq mi)  Highly Segregated (50%+)   \n",
       "2  Lower pop. density (<10k per sq mi)    Less Segregated (<50%)   \n",
       "3  Lower pop. density (<10k per sq mi)    Less Segregated (<50%)   \n",
       "4  Lower pop. density (<10k per sq mi)  Highly Segregated (50%+)   \n",
       "\n",
       "  strata_race_label strata_sex_label  strata_race_sex_label  \n",
       "0             White             Male             White Male  \n",
       "1             White             Male             White Male  \n",
       "2             White             Male             White Male  \n",
       "3             White             Male             White Male  \n",
       "4             White             Male             White Male  \n",
       "\n",
       "[5 rows x 31 columns]"
      ]
     },
     "execution_count": 145,
     "metadata": {},
     "output_type": "execute_result"
    }
   ],
   "source": [
    "# dataset: https://bigcitieshealthdata.org/\n",
    "data = pd.read_csv('BigCitiesHealth.csv')\n",
    "data.head()"
   ]
  },
  {
   "cell_type": "markdown",
   "metadata": {},
   "source": [
    "> **Brief Data Description**\n",
    "\n",
    "The data we've chosen to work with is **The Big Cities Health Inventory (BCHI) data platform**.\n",
    "> BCHI contains over 120 metrics across key public health categories, chosen for their impact on morbidity, mortality, and community well-being in the US. Metrics must meet substantive criteria relating to public health relevance, policy benchmarking, or demographic/socioeconomic disparity highlighting, as well as coverage and standardization criteria. The platform prioritizes publicly available, city-level data, with information from 2010 to 2021. The variables we use in our analysis are:\n",
    "\n",
    "**Target Variable**: \"Air Quality\"\n",
    "- Calculated using Air Quality Index (AQI) published by the Environmental Protection Agency. The 'Air Quality' value is calculated as $\\frac{\\text{No. of days with AQI} > 50}{\\text{No. of days recorded}}$ [p. 15 in data description]\n",
    "\n",
    "**Independent Variables**\n",
    "- **1**. \"Walking to Work\" and **2**. \"Riding Bike to Work\": Calculated using the U.S. Census Bureau’s American Community Survey (ACS) 5-year estimates and is calculated from table B08137. The numerator is those who reported walking or riding a bicycle to work respectively. The denominator is all workers aged 16+ years who did not work at home. [p. 16 in data description]\n",
    "- **3**. \"Public Transportation Use\" and **4**. \"Drives Alone to Work\": Calculated using the U.S. Census Bureau’s American Community Survey (ACS) 5-year estimates. The value is calculated as $\\frac{\\text{No. of citizens who reported using public transport}}{\\text{No. of workers ages 16+ that who did not work from home}}$ and similarily for \"Drives Alone to Work\". [p. 16 in data description]"
   ]
  },
  {
   "cell_type": "code",
   "execution_count": null,
   "metadata": {},
   "outputs": [
    {
     "name": "stdout",
     "output_type": "stream",
     "text": [
      "<class 'pandas.core.frame.DataFrame'>\n",
      "RangeIndex: 170725 entries, 0 to 170724\n",
      "Data columns (total 31 columns):\n",
      " #   Column                           Non-Null Count   Dtype  \n",
      "---  ------                           --------------   -----  \n",
      " 0   metric_item_label                170725 non-null  object \n",
      " 1   metric_cat_label                 170725 non-null  object \n",
      " 2   metric_subcat_label              170725 non-null  object \n",
      " 3   metric_item_label_subtitle       170725 non-null  object \n",
      " 4   metric_cat_item_yaxis_label      170725 non-null  object \n",
      " 5   metric_source_desc_label_fn      170725 non-null  object \n",
      " 6   metric_source_desc_label_url_fn  170725 non-null  object \n",
      " 7   geo_label_city                   170725 non-null  object \n",
      " 8   geo_label_state                  169516 non-null  object \n",
      " 9   geo_label_citystate              170725 non-null  object \n",
      " 10  geo_fips_code                    169516 non-null  float64\n",
      " 11  value                            169957 non-null  float64\n",
      " 12  date_label                       170725 non-null  int64  \n",
      " 13  geo_label_proxy_or_real          170725 non-null  object \n",
      " 14  geo_label_proxy_footnote         16078 non-null   object \n",
      " 15  geo_fips_desc                    170725 non-null  object \n",
      " 16  date_label_proxy_or_real         170725 non-null  object \n",
      " 17  date_label_proxy_footnote        48275 non-null   object \n",
      " 18  value_ci_flag_yesno              170725 non-null  object \n",
      " 19  value_95_ci_low                  110314 non-null  float64\n",
      " 20  value_95_ci_high                 110325 non-null  float64\n",
      " 21  value_90_ci_low                  0 non-null       float64\n",
      " 22  value_90_ci_high                 0 non-null       float64\n",
      " 23  geo_strata_region                169516 non-null  object \n",
      " 24  geo_strata_poverty               169516 non-null  object \n",
      " 25  geo_strata_Population            169516 non-null  object \n",
      " 26  geo_strata_PopDensity            169516 non-null  object \n",
      " 27  geo_strata_Segregation           169516 non-null  object \n",
      " 28  strata_race_label                170725 non-null  object \n",
      " 29  strata_sex_label                 170725 non-null  object \n",
      " 30  strata_race_sex_label            41498 non-null   object \n",
      "dtypes: float64(6), int64(1), object(24)\n",
      "memory usage: 40.4+ MB\n"
     ]
    }
   ],
   "source": [
    "data.info()"
   ]
  },
  {
   "cell_type": "code",
   "execution_count": null,
   "metadata": {},
   "outputs": [
    {
     "data": {
      "text/html": [
       "<div>\n",
       "<style scoped>\n",
       "    .dataframe tbody tr th:only-of-type {\n",
       "        vertical-align: middle;\n",
       "    }\n",
       "\n",
       "    .dataframe tbody tr th {\n",
       "        vertical-align: top;\n",
       "    }\n",
       "\n",
       "    .dataframe thead th {\n",
       "        text-align: right;\n",
       "    }\n",
       "</style>\n",
       "<table border=\"1\" class=\"dataframe\">\n",
       "  <thead>\n",
       "    <tr style=\"text-align: right;\">\n",
       "      <th></th>\n",
       "      <th>geo_fips_code</th>\n",
       "      <th>value</th>\n",
       "      <th>date_label</th>\n",
       "      <th>value_95_ci_low</th>\n",
       "      <th>value_95_ci_high</th>\n",
       "      <th>value_90_ci_low</th>\n",
       "      <th>value_90_ci_high</th>\n",
       "    </tr>\n",
       "  </thead>\n",
       "  <tbody>\n",
       "    <tr>\n",
       "      <th>count</th>\n",
       "      <td>1.695160e+05</td>\n",
       "      <td>169957.000000</td>\n",
       "      <td>170725.000000</td>\n",
       "      <td>110314.000000</td>\n",
       "      <td>110325.000000</td>\n",
       "      <td>0.0</td>\n",
       "      <td>0.0</td>\n",
       "    </tr>\n",
       "    <tr>\n",
       "      <th>mean</th>\n",
       "      <td>2.873797e+06</td>\n",
       "      <td>799.240387</td>\n",
       "      <td>2015.725102</td>\n",
       "      <td>446.619734</td>\n",
       "      <td>539.482406</td>\n",
       "      <td>NaN</td>\n",
       "      <td>NaN</td>\n",
       "    </tr>\n",
       "    <tr>\n",
       "      <th>std</th>\n",
       "      <td>1.697982e+06</td>\n",
       "      <td>4241.009061</td>\n",
       "      <td>3.385490</td>\n",
       "      <td>1747.515240</td>\n",
       "      <td>2039.646166</td>\n",
       "      <td>NaN</td>\n",
       "      <td>NaN</td>\n",
       "    </tr>\n",
       "    <tr>\n",
       "      <th>min</th>\n",
       "      <td>4.550000e+05</td>\n",
       "      <td>-1.052184</td>\n",
       "      <td>2010.000000</td>\n",
       "      <td>-148.037039</td>\n",
       "      <td>0.458320</td>\n",
       "      <td>NaN</td>\n",
       "      <td>NaN</td>\n",
       "    </tr>\n",
       "    <tr>\n",
       "      <th>25%</th>\n",
       "      <td>8.200000e+05</td>\n",
       "      <td>10.992568</td>\n",
       "      <td>2013.000000</td>\n",
       "      <td>9.400000</td>\n",
       "      <td>15.150000</td>\n",
       "      <td>NaN</td>\n",
       "      <td>NaN</td>\n",
       "    </tr>\n",
       "    <tr>\n",
       "      <th>50%</th>\n",
       "      <td>2.938000e+06</td>\n",
       "      <td>25.073544</td>\n",
       "      <td>2016.000000</td>\n",
       "      <td>20.757485</td>\n",
       "      <td>31.136362</td>\n",
       "      <td>NaN</td>\n",
       "      <td>NaN</td>\n",
       "    </tr>\n",
       "    <tr>\n",
       "      <th>75%</th>\n",
       "      <td>4.748000e+06</td>\n",
       "      <td>73.582871</td>\n",
       "      <td>2019.000000</td>\n",
       "      <td>91.258907</td>\n",
       "      <td>129.890367</td>\n",
       "      <td>NaN</td>\n",
       "      <td>NaN</td>\n",
       "    </tr>\n",
       "    <tr>\n",
       "      <th>max</th>\n",
       "      <td>5.553000e+06</td>\n",
       "      <td>99408.000000</td>\n",
       "      <td>2021.000000</td>\n",
       "      <td>27873.280170</td>\n",
       "      <td>29954.101410</td>\n",
       "      <td>NaN</td>\n",
       "      <td>NaN</td>\n",
       "    </tr>\n",
       "  </tbody>\n",
       "</table>\n",
       "</div>"
      ],
      "text/plain": [
       "       geo_fips_code          value     date_label  value_95_ci_low  \\\n",
       "count   1.695160e+05  169957.000000  170725.000000    110314.000000   \n",
       "mean    2.873797e+06     799.240387    2015.725102       446.619734   \n",
       "std     1.697982e+06    4241.009061       3.385490      1747.515240   \n",
       "min     4.550000e+05      -1.052184    2010.000000      -148.037039   \n",
       "25%     8.200000e+05      10.992568    2013.000000         9.400000   \n",
       "50%     2.938000e+06      25.073544    2016.000000        20.757485   \n",
       "75%     4.748000e+06      73.582871    2019.000000        91.258907   \n",
       "max     5.553000e+06   99408.000000    2021.000000     27873.280170   \n",
       "\n",
       "       value_95_ci_high  value_90_ci_low  value_90_ci_high  \n",
       "count     110325.000000              0.0               0.0  \n",
       "mean         539.482406              NaN               NaN  \n",
       "std         2039.646166              NaN               NaN  \n",
       "min            0.458320              NaN               NaN  \n",
       "25%           15.150000              NaN               NaN  \n",
       "50%           31.136362              NaN               NaN  \n",
       "75%          129.890367              NaN               NaN  \n",
       "max        29954.101410              NaN               NaN  "
      ]
     },
     "execution_count": 147,
     "metadata": {},
     "output_type": "execute_result"
    }
   ],
   "source": [
    "data.describe()"
   ]
  },
  {
   "cell_type": "markdown",
   "metadata": {},
   "source": [
    "We chose this particular dataset because looking for datasets from different cities that contain similar and complete data is a challenging task, but this dataset contained all the information we needed to do the analysis on air quality in cities. It has enough data to fins some interesting insights, this is, we have geographical data, we have time data, air quality, attributes such as means of transport that might impact on the air quality, among others. "
   ]
  },
  {
   "cell_type": "markdown",
   "metadata": {},
   "source": [
    "# 2. Basic stats"
   ]
  },
  {
   "cell_type": "markdown",
   "metadata": {},
   "source": [
    "We only keep the attributes of interest for our analysis, the rest of the columns are dropped. "
   ]
  },
  {
   "cell_type": "code",
   "execution_count": null,
   "metadata": {},
   "outputs": [
    {
     "name": "stdout",
     "output_type": "stream",
     "text": [
      "geo_label_city           0\n",
      "geo_label_citystate      0\n",
      "value                  768\n",
      "date_label               0\n",
      "metric_item_label        0\n",
      "metric_subcat_label      0\n",
      "dtype: int64\n"
     ]
    }
   ],
   "source": [
    "columns_to_keep = ['geo_label_city', 'geo_label_citystate', 'value', 'date_label', 'metric_item_label', 'metric_subcat_label']\n",
    "data = data[columns_to_keep]\n",
    "\n",
    "data['date_label'] = pd.to_datetime(data['date_label'], format='%Y', errors='coerce')\n",
    "\n",
    "print(data.isna().sum())"
   ]
  },
  {
   "cell_type": "markdown",
   "metadata": {},
   "source": [
    "### 2.1. Handling Missing Values\n",
    "\n",
    "In the columns relevant to our analysis, only $\\frac{768}{170.725} \\approx 0.4\\%$ of **value** entries we're missing. Let's explore where these are missing."
   ]
  },
  {
   "cell_type": "code",
   "execution_count": null,
   "metadata": {},
   "outputs": [
    {
     "data": {
      "text/plain": [
       "HIV/AIDS Prevalence             362\n",
       "Police Killings                 300\n",
       "Child Lead Levels 10+ mcg/dL     74\n",
       "Population Density               12\n",
       "Child Lead Testing               11\n",
       "New Chlamydia Cases               3\n",
       "Syphilis Prevalence               3\n",
       "New Gonorrhea Cases               2\n",
       "Child Lead Levels 5+ mcg/dL       1\n",
       "Name: metric_item_label, dtype: int64"
      ]
     },
     "execution_count": 149,
     "metadata": {},
     "output_type": "execute_result"
    }
   ],
   "source": [
    "missing_value = data[np.isnan(data['value'])==True]\n",
    "missing_value['metric_item_label'].value_counts()"
   ]
  },
  {
   "cell_type": "markdown",
   "metadata": {},
   "source": [
    "For now, we choose to drop these rows with missing values. If any of these labels turn out to show any importance in our later analysis, we will reconsider this decision."
   ]
  },
  {
   "cell_type": "code",
   "execution_count": null,
   "metadata": {},
   "outputs": [
    {
     "name": "stdout",
     "output_type": "stream",
     "text": [
      "geo_label_city         0\n",
      "geo_label_citystate    0\n",
      "value                  0\n",
      "date_label             0\n",
      "metric_item_label      0\n",
      "metric_subcat_label    0\n",
      "dtype: int64\n"
     ]
    }
   ],
   "source": [
    "# Drop the NaNs\n",
    "data = data.dropna()\n",
    "print(data.isna().sum())"
   ]
  },
  {
   "cell_type": "markdown",
   "metadata": {},
   "source": [
    "### 2.2. Data Exploration"
   ]
  },
  {
   "cell_type": "markdown",
   "metadata": {},
   "source": [
    "How many cities do we have?"
   ]
  },
  {
   "cell_type": "code",
   "execution_count": 2,
   "metadata": {},
   "outputs": [
    {
     "ename": "NameError",
     "evalue": "name 'data' is not defined",
     "output_type": "error",
     "traceback": [
      "\u001b[1;31m---------------------------------------------------------------------------\u001b[0m",
      "\u001b[1;31mNameError\u001b[0m                                 Traceback (most recent call last)",
      "Cell \u001b[1;32mIn[2], line 1\u001b[0m\n\u001b[1;32m----> 1\u001b[0m \u001b[39mprint\u001b[39m(\u001b[39mf\u001b[39m\u001b[39m\"\u001b[39m\u001b[39mTotal Cities in the dataset: \u001b[39m\u001b[39m{\u001b[39;00m\u001b[39mlen\u001b[39m(data\u001b[39m.\u001b[39mgeo_label_city\u001b[39m.\u001b[39munique())\u001b[39m}\u001b[39;00m\u001b[39m\"\u001b[39m)\n",
      "\u001b[1;31mNameError\u001b[0m: name 'data' is not defined"
     ]
    }
   ],
   "source": [
    "print(f\"Total Cities in the dataset: {len(data.geo_label_city.unique())}\")"
   ]
  },
  {
   "cell_type": "markdown",
   "metadata": {},
   "source": [
    "Now we want to get the geographical coordinates for each city and put them in two dataset columns."
   ]
  },
  {
   "cell_type": "code",
   "execution_count": 3,
   "metadata": {},
   "outputs": [
    {
     "ename": "NameError",
     "evalue": "name 'data' is not defined",
     "output_type": "error",
     "traceback": [
      "\u001b[1;31m---------------------------------------------------------------------------\u001b[0m",
      "\u001b[1;31mNameError\u001b[0m                                 Traceback (most recent call last)",
      "Cell \u001b[1;32mIn[3], line 1\u001b[0m\n\u001b[1;32m----> 1\u001b[0m cities \u001b[39m=\u001b[39m \u001b[39mlist\u001b[39m(data\u001b[39m.\u001b[39mgeo_label_citystate\u001b[39m.\u001b[39munique())\n\u001b[0;32m      3\u001b[0m \u001b[39mdef\u001b[39;00m \u001b[39mget_lat_lng\u001b[39m(city):\n\u001b[0;32m      4\u001b[0m     geolocator \u001b[39m=\u001b[39m Nominatim(user_agent\u001b[39m=\u001b[39m\u001b[39m\"\u001b[39m\u001b[39mcity_explorer\u001b[39m\u001b[39m\"\u001b[39m)\n",
      "\u001b[1;31mNameError\u001b[0m: name 'data' is not defined"
     ]
    }
   ],
   "source": [
    "cities = list(data.geo_label_citystate.unique())\n",
    "\n",
    "def get_lat_lng(city):\n",
    "    geolocator = Nominatim(user_agent=\"city_explorer\")\n",
    "    location = geolocator.geocode(city)\n",
    "    \n",
    "    if location is not None:\n",
    "        print(f\"Location found for {city}: ({location.latitude}, {location.longitude})\")\n",
    "        return location.latitude, location.longitude\n",
    "    else:\n",
    "        print(f\"Location not found for: {city}\")\n",
    "        return None\n",
    "\n",
    "city_data = {'City': cities}\n",
    "df = pd.DataFrame(city_data)\n",
    "\n",
    "df['Lat_Lng'] = df['City'].apply(get_lat_lng)"
   ]
  },
  {
   "cell_type": "code",
   "execution_count": 4,
   "metadata": {},
   "outputs": [
    {
     "ename": "NameError",
     "evalue": "name 'df' is not defined",
     "output_type": "error",
     "traceback": [
      "\u001b[1;31m---------------------------------------------------------------------------\u001b[0m",
      "\u001b[1;31mNameError\u001b[0m                                 Traceback (most recent call last)",
      "Cell \u001b[1;32mIn[4], line 1\u001b[0m\n\u001b[1;32m----> 1\u001b[0m df \u001b[39m=\u001b[39m df\u001b[39m.\u001b[39mdropna(subset\u001b[39m=\u001b[39m[\u001b[39m'\u001b[39m\u001b[39mLat_Lng\u001b[39m\u001b[39m'\u001b[39m])\n\u001b[0;32m      2\u001b[0m df[[\u001b[39m'\u001b[39m\u001b[39mLatitude\u001b[39m\u001b[39m'\u001b[39m, \u001b[39m'\u001b[39m\u001b[39mLongitude\u001b[39m\u001b[39m'\u001b[39m]] \u001b[39m=\u001b[39m pd\u001b[39m.\u001b[39mDataFrame(df[\u001b[39m'\u001b[39m\u001b[39mLat_Lng\u001b[39m\u001b[39m'\u001b[39m]\u001b[39m.\u001b[39mtolist(), index\u001b[39m=\u001b[39mdf\u001b[39m.\u001b[39mindex)\n",
      "\u001b[1;31mNameError\u001b[0m: name 'df' is not defined"
     ]
    }
   ],
   "source": [
    "df = df.dropna(subset=['Lat_Lng'])\n",
    "df[['Latitude', 'Longitude']] = pd.DataFrame(df['Lat_Lng'].tolist(), index=df.index)\n"
   ]
  },
  {
   "cell_type": "code",
   "execution_count": 5,
   "metadata": {},
   "outputs": [
    {
     "ename": "NameError",
     "evalue": "name 'folium' is not defined",
     "output_type": "error",
     "traceback": [
      "\u001b[1;31m---------------------------------------------------------------------------\u001b[0m",
      "\u001b[1;31mNameError\u001b[0m                                 Traceback (most recent call last)",
      "Cell \u001b[1;32mIn[5], line 1\u001b[0m\n\u001b[1;32m----> 1\u001b[0m us_map \u001b[39m=\u001b[39m folium\u001b[39m.\u001b[39mMap(location\u001b[39m=\u001b[39m[\u001b[39m37.7749\u001b[39m, \u001b[39m-\u001b[39m\u001b[39m100.4194\u001b[39m], zoom_start\u001b[39m=\u001b[39m\u001b[39m5\u001b[39m, width\u001b[39m=\u001b[39m\u001b[39m'\u001b[39m\u001b[39m90\u001b[39m\u001b[39m%\u001b[39m\u001b[39m'\u001b[39m, height\u001b[39m=\u001b[39m\u001b[39m'\u001b[39m\u001b[39m90\u001b[39m\u001b[39m%\u001b[39m\u001b[39m'\u001b[39m)\n\u001b[0;32m      3\u001b[0m \u001b[39mfor\u001b[39;00m _, row \u001b[39min\u001b[39;00m df\u001b[39m.\u001b[39miterrows():\n\u001b[0;32m      4\u001b[0m     folium\u001b[39m.\u001b[39mCircleMarker(\n\u001b[0;32m      5\u001b[0m         location\u001b[39m=\u001b[39m[row[\u001b[39m'\u001b[39m\u001b[39mLatitude\u001b[39m\u001b[39m'\u001b[39m], row[\u001b[39m'\u001b[39m\u001b[39mLongitude\u001b[39m\u001b[39m'\u001b[39m]],\n\u001b[0;32m      6\u001b[0m         radius\u001b[39m=\u001b[39m\u001b[39m5\u001b[39m,\n\u001b[1;32m   (...)\u001b[0m\n\u001b[0;32m      9\u001b[0m         fill_opacity\u001b[39m=\u001b[39m\u001b[39m0.7\u001b[39m\n\u001b[0;32m     10\u001b[0m     )\u001b[39m.\u001b[39madd_to(us_map)\n",
      "\u001b[1;31mNameError\u001b[0m: name 'folium' is not defined"
     ]
    }
   ],
   "source": [
    "us_map = folium.Map(location=[37.7749, -100.4194], zoom_start=5, width='90%', height='90%')\n",
    "\n",
    "for _, row in df.iterrows():\n",
    "    folium.CircleMarker(\n",
    "        location=[row['Latitude'], row['Longitude']],\n",
    "        radius=5,\n",
    "        popup=row['City'],\n",
    "        fill=True,\n",
    "        fill_opacity=0.7\n",
    "    ).add_to(us_map)\n",
    "\n",
    "us_map"
   ]
  },
  {
   "cell_type": "markdown",
   "metadata": {},
   "source": [
    "### 2.3. Zooming in on air quality\n",
    "\n",
    "Let's first take a look at the Air Quality in different cities (*Warmer means worse Air Quality*)."
   ]
  },
  {
   "cell_type": "code",
   "execution_count": 6,
   "metadata": {},
   "outputs": [
    {
     "ename": "NameError",
     "evalue": "name 'data_' is not defined",
     "output_type": "error",
     "traceback": [
      "\u001b[1;31m---------------------------------------------------------------------------\u001b[0m",
      "\u001b[1;31mNameError\u001b[0m                                 Traceback (most recent call last)",
      "Cell \u001b[1;32mIn[6], line 2\u001b[0m\n\u001b[0;32m      1\u001b[0m \u001b[39m# extract rows with air 1 and air 2\u001b[39;00m\n\u001b[1;32m----> 2\u001b[0m air_df \u001b[39m=\u001b[39m data_[data_[\u001b[39m\"\u001b[39m\u001b[39mmetric_item_label\u001b[39m\u001b[39m\"\u001b[39m]\u001b[39m.\u001b[39misin([\u001b[39m\"\u001b[39m\u001b[39mPoor Air Quality\u001b[39m\u001b[39m\"\u001b[39m, \u001b[39m\"\u001b[39m\u001b[39mHazardous Air Quality\u001b[39m\u001b[39m\"\u001b[39m])]\n\u001b[0;32m      3\u001b[0m \u001b[39m# extract rows with car, bike, bus, and walk\u001b[39;00m\n\u001b[0;32m      4\u001b[0m other_df \u001b[39m=\u001b[39m data_[data_[\u001b[39m\"\u001b[39m\u001b[39mmetric_item_label\u001b[39m\u001b[39m\"\u001b[39m]\u001b[39m.\u001b[39misin([\u001b[39m\"\u001b[39m\u001b[39mDrives Alone to Work\u001b[39m\u001b[39m\"\u001b[39m, \u001b[39m\"\u001b[39m\u001b[39mRiding Bike to Work\u001b[39m\u001b[39m\"\u001b[39m, \u001b[39m\"\u001b[39m\u001b[39mPublic Transportation Use\u001b[39m\u001b[39m\"\u001b[39m, \u001b[39m\"\u001b[39m\u001b[39mWalking to Work\u001b[39m\u001b[39m\"\u001b[39m])]\n",
      "\u001b[1;31mNameError\u001b[0m: name 'data_' is not defined"
     ]
    }
   ],
   "source": [
    "# extract rows with air 1 and air 2\n",
    "air_df = data_[data_[\"metric_item_label\"].isin([\"Poor Air Quality\", \"Hazardous Air Quality\"])]\n",
    "# extract rows with car, bike, bus, and walk\n",
    "other_df = data_[data_[\"metric_item_label\"].isin([\"Drives Alone to Work\", \"Riding Bike to Work\", \"Public Transportation Use\", \"Walking to Work\"])]\n",
    "\n",
    "# merge the two dataframes on the first column\n",
    "result_df = pd.merge(air_df, other_df, on=[\"geo_label_citystate\", \"date_label\"])\n",
    "\n",
    "# rename the columns\n",
    "result_df = result_df.drop(columns=['metric_subcat_label_x','metric_subcat_label_y', 'geo_label_city_x', 'geo_label_city_y'])\n",
    "result_df = result_df.rename(columns={\"metric_item_label_x\": \"Air_quality_based_on\", \"metric_item_label_y\": \"Transportation\", \"value_x\":\"air_value\", \"value_y\":\"transport_value\"})\n",
    "result_df = result_df.drop_duplicates()\n",
    "# convert date column to datetime format\n",
    "result_df[\"date_label\"] = pd.to_datetime(result_df[\"date_label\"])\n",
    "\n",
    "# sort the dataframe based on date\n",
    "result_df = result_df.sort_values(\"date_label\")\n",
    "result_df"
   ]
  },
  {
   "cell_type": "code",
   "execution_count": 7,
   "metadata": {},
   "outputs": [
    {
     "ename": "NameError",
     "evalue": "name 'result_df' is not defined",
     "output_type": "error",
     "traceback": [
      "\u001b[1;31m---------------------------------------------------------------------------\u001b[0m",
      "\u001b[1;31mNameError\u001b[0m                                 Traceback (most recent call last)",
      "Cell \u001b[1;32mIn[7], line 2\u001b[0m\n\u001b[0;32m      1\u001b[0m \u001b[39m#air_quality_data = data[data['metric_subcat_label'] == 'Air Quality']\u001b[39;00m\n\u001b[1;32m----> 2\u001b[0m result_df[\u001b[39m'\u001b[39m\u001b[39myear\u001b[39m\u001b[39m'\u001b[39m] \u001b[39m=\u001b[39m result_df[\u001b[39m'\u001b[39m\u001b[39mdate_label\u001b[39m\u001b[39m'\u001b[39m]\u001b[39m.\u001b[39mdt\u001b[39m.\u001b[39myear\n\u001b[0;32m      4\u001b[0m \u001b[39m# Create a new DataFrame containing city, latitude, longitude, and air quality values\u001b[39;00m\n\u001b[0;32m      5\u001b[0m air_quality_df \u001b[39m=\u001b[39m df\u001b[39m.\u001b[39mmerge(result_df, left_on\u001b[39m=\u001b[39m\u001b[39m'\u001b[39m\u001b[39mCity\u001b[39m\u001b[39m'\u001b[39m, right_on\u001b[39m=\u001b[39m\u001b[39m'\u001b[39m\u001b[39mgeo_label_citystate\u001b[39m\u001b[39m'\u001b[39m)\n",
      "\u001b[1;31mNameError\u001b[0m: name 'result_df' is not defined"
     ]
    }
   ],
   "source": [
    "#air_quality_data = data[data['metric_subcat_label'] == 'Air Quality']\n",
    "result_df['year'] = result_df['date_label'].dt.year\n",
    "\n",
    "# Create a new DataFrame containing city, latitude, longitude, and air quality values\n",
    "air_quality_df = df.merge(result_df, left_on='City', right_on='geo_label_citystate')\n",
    "air_quality_df = air_quality_df[['City', 'Latitude', 'Longitude', 'Air_quality_based_on', 'air_value', 'transport_value', 'date_label', 'Transportation', 'year']]\n",
    "\n",
    "# Create a new DataFrame containing only the values computed using 'Poor Air Quality'\n",
    "air_quality_df_poor = air_quality_df[air_quality_df['Air_quality_based_on']=='Poor Air Quality']\n",
    "\n",
    "# Create a new DataFrame containing only the values computed using 'Hazardous Air Quality'\n",
    "air_quality_df_haz = air_quality_df[air_quality_df['Air_quality_based_on']=='Hazardous Air Quality']"
   ]
  },
  {
   "cell_type": "markdown",
   "metadata": {},
   "source": [
    "We have to take into account that there are two ways in which the Air Quality is computed:\n",
    "- For one it is used the 'Poor Air Quality' value, which means that the numerator is the number of days when AQI was >50. \n",
    "- For the other one it is used the 'Hazardous Air Quality', which means that the numerator is the number of days when AQI was >100. \n",
    "\n",
    "In both cases the denominator is number of days for which AQI is recorded. \n",
    "\n",
    "Hence, lets first see if their distributions follow the same pattern or not. "
   ]
  },
  {
   "cell_type": "markdown",
   "metadata": {},
   "source": [
    "#### 2.3.1. Air Quality computed using \"Poor Air Quality\""
   ]
  },
  {
   "cell_type": "code",
   "execution_count": 8,
   "metadata": {},
   "outputs": [
    {
     "ename": "NameError",
     "evalue": "name 'air_quality_df_poor' is not defined",
     "output_type": "error",
     "traceback": [
      "\u001b[1;31m---------------------------------------------------------------------------\u001b[0m",
      "\u001b[1;31mNameError\u001b[0m                                 Traceback (most recent call last)",
      "Cell \u001b[1;32mIn[8], line 1\u001b[0m\n\u001b[1;32m----> 1\u001b[0m years \u001b[39m=\u001b[39m air_quality_df_poor[\u001b[39m'\u001b[39m\u001b[39myear\u001b[39m\u001b[39m'\u001b[39m]\u001b[39m.\u001b[39munique()\n\u001b[0;32m      3\u001b[0m \u001b[39m# define subplot grid\u001b[39;00m\n\u001b[0;32m      4\u001b[0m fig, axs \u001b[39m=\u001b[39m plt\u001b[39m.\u001b[39msubplots(nrows\u001b[39m=\u001b[39m\u001b[39m4\u001b[39m, ncols\u001b[39m=\u001b[39m\u001b[39m3\u001b[39m, figsize\u001b[39m=\u001b[39m(\u001b[39m15\u001b[39m, \u001b[39m15\u001b[39m), sharex\u001b[39m=\u001b[39m\u001b[39mTrue\u001b[39;00m, sharey\u001b[39m=\u001b[39m\u001b[39mTrue\u001b[39;00m)\n",
      "\u001b[1;31mNameError\u001b[0m: name 'air_quality_df_poor' is not defined"
     ]
    }
   ],
   "source": [
    "years = air_quality_df_poor['year'].unique()\n",
    "\n",
    "# define subplot grid\n",
    "fig, axs = plt.subplots(nrows=4, ncols=3, figsize=(15, 15), sharex=True, sharey=True)\n",
    "plt.subplots_adjust(hspace=0.5)\n",
    "fig.suptitle('Distribution of Air Quality computed using \"Poor Air Quality\"', fontsize=18, y=0.95)\n",
    "\n",
    "# loop through tickers and axes\n",
    "for year, ax in zip(years, axs.ravel()):\n",
    "    # filter df for ticker and plot on specified axes\n",
    "    air_quality_df_poor_y = air_quality_df_poor[air_quality_df_poor['year']==year]\n",
    "    sns.histplot(data=air_quality_df_poor_y, x='air_value', bins=100, kde=True, ax=ax)\n",
    "\n",
    "    # chart formatting\n",
    "    ax.set_title(str(year))\n",
    "    ax.set_xlabel(\"\")\n",
    "\n",
    "plt.show()"
   ]
  },
  {
   "cell_type": "markdown",
   "metadata": {},
   "source": [
    "From the previous plot we can anticipate that the output of the study can be interesting since it shows the air quality distribution and even though there are lots of cities with air quality 0, there are also with high air quality. Furthermore, by looking at the year distribution we see that from the ones with low quality there has been a decrease in the last years and it has been an increase in the high quality ones.  "
   ]
  },
  {
   "cell_type": "code",
   "execution_count": 9,
   "metadata": {},
   "outputs": [
    {
     "ename": "NameError",
     "evalue": "name 'air_quality_df_poor' is not defined",
     "output_type": "error",
     "traceback": [
      "\u001b[1;31m---------------------------------------------------------------------------\u001b[0m",
      "\u001b[1;31mNameError\u001b[0m                                 Traceback (most recent call last)",
      "Cell \u001b[1;32mIn[9], line 2\u001b[0m\n\u001b[0;32m      1\u001b[0m \u001b[39m# Create the folium map and add the HeatMap layer\u001b[39;00m\n\u001b[1;32m----> 2\u001b[0m heatmap_data_poor \u001b[39m=\u001b[39m air_quality_df_poor[[\u001b[39m'\u001b[39m\u001b[39mLatitude\u001b[39m\u001b[39m'\u001b[39m, \u001b[39m'\u001b[39m\u001b[39mLongitude\u001b[39m\u001b[39m'\u001b[39m, \u001b[39m'\u001b[39m\u001b[39mair_value\u001b[39m\u001b[39m'\u001b[39m]]\u001b[39m.\u001b[39mvalues\u001b[39m.\u001b[39mtolist()\n\u001b[0;32m      3\u001b[0m HeatMap(heatmap_data_poor)\u001b[39m.\u001b[39madd_to(us_map)\n\u001b[0;32m      4\u001b[0m us_map\n",
      "\u001b[1;31mNameError\u001b[0m: name 'air_quality_df_poor' is not defined"
     ]
    }
   ],
   "source": [
    "# Create the folium map and add the HeatMap layer\n",
    "heatmap_data_poor = air_quality_df_poor[['Latitude', 'Longitude', 'air_value']].values.tolist()\n",
    "HeatMap(heatmap_data_poor).add_to(us_map)\n",
    "us_map"
   ]
  },
  {
   "cell_type": "markdown",
   "metadata": {},
   "source": [
    "Overall, it seems that the west coast cities are the one with poorest air quality over the years. However, we need to look into the yearly data to see if this pattern changes during the years. (See section 5) "
   ]
  },
  {
   "cell_type": "markdown",
   "metadata": {},
   "source": [
    "#### 2.3.2. Air Quality computed using \"Hazardous Air Quality\""
   ]
  },
  {
   "cell_type": "code",
   "execution_count": 10,
   "metadata": {},
   "outputs": [
    {
     "ename": "NameError",
     "evalue": "name 'air_quality_df_haz' is not defined",
     "output_type": "error",
     "traceback": [
      "\u001b[1;31m---------------------------------------------------------------------------\u001b[0m",
      "\u001b[1;31mNameError\u001b[0m                                 Traceback (most recent call last)",
      "Cell \u001b[1;32mIn[10], line 1\u001b[0m\n\u001b[1;32m----> 1\u001b[0m years \u001b[39m=\u001b[39m air_quality_df_haz[\u001b[39m'\u001b[39m\u001b[39myear\u001b[39m\u001b[39m'\u001b[39m]\u001b[39m.\u001b[39munique()\n\u001b[0;32m      3\u001b[0m \u001b[39m# define subplot grid\u001b[39;00m\n\u001b[0;32m      4\u001b[0m fig, axs \u001b[39m=\u001b[39m plt\u001b[39m.\u001b[39msubplots(nrows\u001b[39m=\u001b[39m\u001b[39m4\u001b[39m, ncols\u001b[39m=\u001b[39m\u001b[39m3\u001b[39m, figsize\u001b[39m=\u001b[39m(\u001b[39m15\u001b[39m, \u001b[39m15\u001b[39m), sharex\u001b[39m=\u001b[39m\u001b[39mTrue\u001b[39;00m, sharey\u001b[39m=\u001b[39m\u001b[39mTrue\u001b[39;00m)\n",
      "\u001b[1;31mNameError\u001b[0m: name 'air_quality_df_haz' is not defined"
     ]
    }
   ],
   "source": [
    "years = air_quality_df_haz['year'].unique()\n",
    "\n",
    "# define subplot grid\n",
    "fig, axs = plt.subplots(nrows=4, ncols=3, figsize=(15, 15), sharex=True, sharey=True)\n",
    "plt.subplots_adjust(hspace=0.5)\n",
    "fig.suptitle('Distribution of Air Quality computed using \"Hazardous Air Quality\"', fontsize=18, y=0.95)\n",
    "\n",
    "# loop through tickers and axes\n",
    "for year, ax in zip(years, axs.ravel()):\n",
    "    # filter df for ticker and plot on specified axes\n",
    "    air_quality_df_haz_y = air_quality_df_haz[air_quality_df_haz['year']==year]\n",
    "    sns.histplot(data=air_quality_df_haz_y, x='air_value', bins=100, kde=True, ax=ax)\n",
    "\n",
    "    # chart formatting\n",
    "    ax.set_title(str(year))\n",
    "    ax.set_xlabel(\"\")\n",
    "\n",
    "plt.show()"
   ]
  },
  {
   "cell_type": "code",
   "execution_count": 11,
   "metadata": {},
   "outputs": [
    {
     "ename": "NameError",
     "evalue": "name 'air_quality_df_haz' is not defined",
     "output_type": "error",
     "traceback": [
      "\u001b[1;31m---------------------------------------------------------------------------\u001b[0m",
      "\u001b[1;31mNameError\u001b[0m                                 Traceback (most recent call last)",
      "Cell \u001b[1;32mIn[11], line 2\u001b[0m\n\u001b[0;32m      1\u001b[0m \u001b[39m# Create the folium map and add the HeatMap layer\u001b[39;00m\n\u001b[1;32m----> 2\u001b[0m heatmap_data_haz \u001b[39m=\u001b[39m air_quality_df_haz[[\u001b[39m'\u001b[39m\u001b[39mLatitude\u001b[39m\u001b[39m'\u001b[39m, \u001b[39m'\u001b[39m\u001b[39mLongitude\u001b[39m\u001b[39m'\u001b[39m, \u001b[39m'\u001b[39m\u001b[39mair_value\u001b[39m\u001b[39m'\u001b[39m]]\u001b[39m.\u001b[39mvalues\u001b[39m.\u001b[39mtolist()\n\u001b[0;32m      3\u001b[0m HeatMap(heatmap_data_haz)\u001b[39m.\u001b[39madd_to(us_map)\n\u001b[0;32m      4\u001b[0m us_map\n",
      "\u001b[1;31mNameError\u001b[0m: name 'air_quality_df_haz' is not defined"
     ]
    }
   ],
   "source": [
    "# Create the folium map and add the HeatMap layer\n",
    "heatmap_data_haz = air_quality_df_haz[['Latitude', 'Longitude', 'air_value']].values.tolist()\n",
    "HeatMap(heatmap_data_haz).add_to(us_map)\n",
    "us_map"
   ]
  },
  {
   "cell_type": "markdown",
   "metadata": {},
   "source": [
    "FROM NOW ON WE'LL BE USING THE DATASET WHERE THE Air Quality IS computed using \"Poor Air Quality\", since both of them have the same distributions. "
   ]
  },
  {
   "cell_type": "markdown",
   "metadata": {},
   "source": [
    "#### 2.3.3. Time Series Plots \n",
    "<span style=\"color:red\"> NOTE FROM LAURA: NOT SURE IF IT IS INSIGHTFUL THIS PART, IF IT IS, PLEASE COMMENT</span>"
   ]
  },
  {
   "cell_type": "code",
   "execution_count": 12,
   "metadata": {},
   "outputs": [
    {
     "ename": "NameError",
     "evalue": "name 'air_quality_df_poor' is not defined",
     "output_type": "error",
     "traceback": [
      "\u001b[1;31m---------------------------------------------------------------------------\u001b[0m",
      "\u001b[1;31mNameError\u001b[0m                                 Traceback (most recent call last)",
      "Cell \u001b[1;32mIn[12], line 2\u001b[0m\n\u001b[0;32m      1\u001b[0m variables_of_interest \u001b[39m=\u001b[39m [\u001b[39m'\u001b[39m\u001b[39mPublic Transportation Use\u001b[39m\u001b[39m'\u001b[39m, \u001b[39m'\u001b[39m\u001b[39mDrives Alone to Work\u001b[39m\u001b[39m'\u001b[39m, \u001b[39m'\u001b[39m\u001b[39mWalking to Work\u001b[39m\u001b[39m'\u001b[39m, \u001b[39m'\u001b[39m\u001b[39mRiding Bike to Work\u001b[39m\u001b[39m'\u001b[39m]\n\u001b[1;32m----> 2\u001b[0m filtered_data \u001b[39m=\u001b[39m air_quality_df_poor[air_quality_df_poor[\u001b[39m'\u001b[39m\u001b[39mTransportation\u001b[39m\u001b[39m'\u001b[39m]\u001b[39m.\u001b[39misin(variables_of_interest)]\n\u001b[0;32m      3\u001b[0m filtered_data\u001b[39m.\u001b[39mshape\n",
      "\u001b[1;31mNameError\u001b[0m: name 'air_quality_df_poor' is not defined"
     ]
    }
   ],
   "source": [
    "variables_of_interest = ['Public Transportation Use', 'Drives Alone to Work', 'Walking to Work', 'Riding Bike to Work']\n",
    "filtered_data = air_quality_df_poor[air_quality_df_poor['Transportation'].isin(variables_of_interest)]\n",
    "filtered_data.shape"
   ]
  },
  {
   "cell_type": "code",
   "execution_count": 13,
   "metadata": {},
   "outputs": [
    {
     "ename": "NameError",
     "evalue": "name 'filtered_data' is not defined",
     "output_type": "error",
     "traceback": [
      "\u001b[1;31m---------------------------------------------------------------------------\u001b[0m",
      "\u001b[1;31mNameError\u001b[0m                                 Traceback (most recent call last)",
      "Cell \u001b[1;32mIn[13], line 1\u001b[0m\n\u001b[1;32m----> 1\u001b[0m filtered_data[\u001b[39m'\u001b[39m\u001b[39mTransportation\u001b[39m\u001b[39m'\u001b[39m]\u001b[39m.\u001b[39munique()\n",
      "\u001b[1;31mNameError\u001b[0m: name 'filtered_data' is not defined"
     ]
    }
   ],
   "source": [
    "filtered_data['Transportation'].unique()"
   ]
  },
  {
   "cell_type": "code",
   "execution_count": 14,
   "metadata": {},
   "outputs": [
    {
     "ename": "NameError",
     "evalue": "name 'sns' is not defined",
     "output_type": "error",
     "traceback": [
      "\u001b[1;31m---------------------------------------------------------------------------\u001b[0m",
      "\u001b[1;31mNameError\u001b[0m                                 Traceback (most recent call last)",
      "Cell \u001b[1;32mIn[14], line 1\u001b[0m\n\u001b[1;32m----> 1\u001b[0m sns\u001b[39m.\u001b[39mlineplot(data\u001b[39m=\u001b[39mair_quality_df_poor, x\u001b[39m=\u001b[39m\u001b[39m'\u001b[39m\u001b[39myear\u001b[39m\u001b[39m'\u001b[39m, y\u001b[39m=\u001b[39m\u001b[39m'\u001b[39m\u001b[39mair_value\u001b[39m\u001b[39m'\u001b[39m, hue\u001b[39m=\u001b[39m\u001b[39m'\u001b[39m\u001b[39mCity\u001b[39m\u001b[39m'\u001b[39m, ci\u001b[39m=\u001b[39m\u001b[39mNone\u001b[39;00m)\n\u001b[0;32m      2\u001b[0m plt\u001b[39m.\u001b[39mtitle(\u001b[39m'\u001b[39m\u001b[39mAir Quality Over Time\u001b[39m\u001b[39m'\u001b[39m)\n\u001b[0;32m      3\u001b[0m plt\u001b[39m.\u001b[39mxlabel(\u001b[39m'\u001b[39m\u001b[39mYear\u001b[39m\u001b[39m'\u001b[39m)\n",
      "\u001b[1;31mNameError\u001b[0m: name 'sns' is not defined"
     ]
    }
   ],
   "source": [
    "sns.lineplot(data=air_quality_df_poor, x='year', y='air_value', hue='City', ci=None)\n",
    "plt.title('Air Quality Over Time')\n",
    "plt.xlabel('Year')\n",
    "plt.ylabel('Air Quality Index')\n",
    "plt.legend(bbox_to_anchor=(1.05, 1), loc='upper left')\n",
    "plt.show()"
   ]
  },
  {
   "cell_type": "markdown",
   "metadata": {},
   "source": [
    "**To get a less busy time series plot, we split the data into groups based on their first Air Quality Value (2010).**"
   ]
  },
  {
   "cell_type": "code",
   "execution_count": 15,
   "metadata": {},
   "outputs": [
    {
     "ename": "NameError",
     "evalue": "name 'air_quality_df_poor' is not defined",
     "output_type": "error",
     "traceback": [
      "\u001b[1;31m---------------------------------------------------------------------------\u001b[0m",
      "\u001b[1;31mNameError\u001b[0m                                 Traceback (most recent call last)",
      "Cell \u001b[1;32mIn[15], line 2\u001b[0m\n\u001b[0;32m      1\u001b[0m \u001b[39m# Get the first period air quality data\u001b[39;00m\n\u001b[1;32m----> 2\u001b[0m first_period_data \u001b[39m=\u001b[39m air_quality_df_poor[air_quality_df_poor[\u001b[39m'\u001b[39m\u001b[39myear\u001b[39m\u001b[39m'\u001b[39m] \u001b[39m==\u001b[39m air_quality_df_poor[\u001b[39m'\u001b[39m\u001b[39myear\u001b[39m\u001b[39m'\u001b[39m]\u001b[39m.\u001b[39mmin()]\n\u001b[0;32m      4\u001b[0m \u001b[39m# Define air quality groups\u001b[39;00m\n\u001b[0;32m      5\u001b[0m air_quality_groups \u001b[39m=\u001b[39m {\u001b[39m'\u001b[39m\u001b[39m<30\u001b[39m\u001b[39m'\u001b[39m: [], \u001b[39m'\u001b[39m\u001b[39m30-40\u001b[39m\u001b[39m'\u001b[39m: [], \u001b[39m'\u001b[39m\u001b[39m40-60\u001b[39m\u001b[39m'\u001b[39m: [], \u001b[39m'\u001b[39m\u001b[39m60+\u001b[39m\u001b[39m'\u001b[39m: []}\n",
      "\u001b[1;31mNameError\u001b[0m: name 'air_quality_df_poor' is not defined"
     ]
    }
   ],
   "source": [
    "# Get the first period air quality data\n",
    "first_period_data = air_quality_df_poor[air_quality_df_poor['year'] == air_quality_df_poor['year'].min()]\n",
    "\n",
    "# Define air quality groups\n",
    "air_quality_groups = {'<30': [], '30-40': [], '40-60': [], '60+': []}\n",
    "\n",
    "# Assign cities to their air quality groups\n",
    "for city in first_period_data['City'].unique():\n",
    "    city_value = first_period_data[first_period_data['City'] == city]['air_value'].values[0]\n",
    "    if city_value < 25:\n",
    "        air_quality_groups['<30'].append(city)\n",
    "    elif city_value < 40:\n",
    "        air_quality_groups['30-40'].append(city)\n",
    "    elif city_value < 60:\n",
    "        air_quality_groups['40-60'].append(city)\n",
    "    else:\n",
    "        air_quality_groups['60+'].append(city)\n",
    "\n",
    "# Print the air quality groups and their cities\n",
    "for group, cities in air_quality_groups.items():\n",
    "    print(f\"{group}: {', '.join(cities)}\")"
   ]
  },
  {
   "cell_type": "code",
   "execution_count": 16,
   "metadata": {},
   "outputs": [
    {
     "ename": "NameError",
     "evalue": "name 'air_quality_groups' is not defined",
     "output_type": "error",
     "traceback": [
      "\u001b[1;31m---------------------------------------------------------------------------\u001b[0m",
      "\u001b[1;31mNameError\u001b[0m                                 Traceback (most recent call last)",
      "Cell \u001b[1;32mIn[16], line 1\u001b[0m\n\u001b[1;32m----> 1\u001b[0m \u001b[39mfor\u001b[39;00m group, cities \u001b[39min\u001b[39;00m air_quality_groups\u001b[39m.\u001b[39mitems():\n\u001b[0;32m      2\u001b[0m     plt\u001b[39m.\u001b[39mfigure(figsize\u001b[39m=\u001b[39m(\u001b[39m12\u001b[39m, \u001b[39m6\u001b[39m))  \u001b[39m# Set the figure size (width, height) in inches\u001b[39;00m\n\u001b[0;32m      3\u001b[0m     group_data \u001b[39m=\u001b[39m air_quality_df_poor[air_quality_df_poor[\u001b[39m'\u001b[39m\u001b[39mCity\u001b[39m\u001b[39m'\u001b[39m]\u001b[39m.\u001b[39misin(cities)]\n",
      "\u001b[1;31mNameError\u001b[0m: name 'air_quality_groups' is not defined"
     ]
    }
   ],
   "source": [
    "for group, cities in air_quality_groups.items():\n",
    "    plt.figure(figsize=(12, 6))  # Set the figure size (width, height) in inches\n",
    "    group_data = air_quality_df_poor[air_quality_df_poor['City'].isin(cities)]\n",
    "    sns.lineplot(data=group_data, x='date_label', y='air_value', hue='City', ci=None)\n",
    "    plt.title(f'Air Quality Over Time for Cities with Initial AQI {group}')\n",
    "    plt.xlabel('Year')\n",
    "    plt.ylabel('Air Quality Index')\n",
    "    plt.legend(bbox_to_anchor=(1.05, 1), loc='upper left')\n",
    "    plt.show()"
   ]
  },
  {
   "cell_type": "code",
   "execution_count": 17,
   "metadata": {},
   "outputs": [
    {
     "ename": "NameError",
     "evalue": "name 'plt' is not defined",
     "output_type": "error",
     "traceback": [
      "\u001b[1;31m---------------------------------------------------------------------------\u001b[0m",
      "\u001b[1;31mNameError\u001b[0m                                 Traceback (most recent call last)",
      "Cell \u001b[1;32mIn[17], line 1\u001b[0m\n\u001b[1;32m----> 1\u001b[0m plt\u001b[39m.\u001b[39mfigure(figsize\u001b[39m=\u001b[39m(\u001b[39m12\u001b[39m, \u001b[39m8\u001b[39m))\n\u001b[0;32m      2\u001b[0m sns\u001b[39m.\u001b[39mboxplot(x\u001b[39m=\u001b[39m\u001b[39m'\u001b[39m\u001b[39mCity\u001b[39m\u001b[39m'\u001b[39m, y\u001b[39m=\u001b[39m\u001b[39m'\u001b[39m\u001b[39mair_value\u001b[39m\u001b[39m'\u001b[39m, data\u001b[39m=\u001b[39mair_quality_df_poor)\n\u001b[0;32m      3\u001b[0m plt\u001b[39m.\u001b[39mtitle(\u001b[39m'\u001b[39m\u001b[39mDistribution of air_quality_data by City\u001b[39m\u001b[39m'\u001b[39m)\n",
      "\u001b[1;31mNameError\u001b[0m: name 'plt' is not defined"
     ]
    }
   ],
   "source": [
    "plt.figure(figsize=(12, 8))\n",
    "sns.boxplot(x='City', y='air_value', data=air_quality_df_poor)\n",
    "plt.title('Distribution of air_quality_data by City')\n",
    "plt.xlabel('City')\n",
    "plt.ylabel('Value')\n",
    "plt.xticks(rotation=90)\n",
    "plt.show()"
   ]
  },
  {
   "cell_type": "markdown",
   "metadata": {},
   "source": [
    "EXAPLAIN VARIANCE"
   ]
  },
  {
   "cell_type": "code",
   "execution_count": 18,
   "metadata": {
    "scrolled": false
   },
   "outputs": [
    {
     "ename": "NameError",
     "evalue": "name 'plt' is not defined",
     "output_type": "error",
     "traceback": [
      "\u001b[1;31m---------------------------------------------------------------------------\u001b[0m",
      "\u001b[1;31mNameError\u001b[0m                                 Traceback (most recent call last)",
      "Cell \u001b[1;32mIn[18], line 3\u001b[0m\n\u001b[0;32m      1\u001b[0m \u001b[39m# Create a boxplot for each variable of interest, grouped by city\u001b[39;00m\n\u001b[0;32m      2\u001b[0m \u001b[39mfor\u001b[39;00m variable \u001b[39min\u001b[39;00m variables_of_interest:\n\u001b[1;32m----> 3\u001b[0m     plt\u001b[39m.\u001b[39mfigure(figsize\u001b[39m=\u001b[39m(\u001b[39m12\u001b[39m, \u001b[39m8\u001b[39m))\n\u001b[0;32m      4\u001b[0m     sns\u001b[39m.\u001b[39mboxplot(x\u001b[39m=\u001b[39m\u001b[39m'\u001b[39m\u001b[39mCity\u001b[39m\u001b[39m'\u001b[39m, y\u001b[39m=\u001b[39m\u001b[39m'\u001b[39m\u001b[39mtransport_value\u001b[39m\u001b[39m'\u001b[39m, data\u001b[39m=\u001b[39mfiltered_data[filtered_data[\u001b[39m'\u001b[39m\u001b[39mTransportation\u001b[39m\u001b[39m'\u001b[39m] \u001b[39m==\u001b[39m variable])\n\u001b[0;32m      5\u001b[0m     plt\u001b[39m.\u001b[39mtitle(\u001b[39mf\u001b[39m\u001b[39m'\u001b[39m\u001b[39mDistribution of \u001b[39m\u001b[39m{\u001b[39;00mvariable\u001b[39m}\u001b[39;00m\u001b[39m by City\u001b[39m\u001b[39m'\u001b[39m)\n",
      "\u001b[1;31mNameError\u001b[0m: name 'plt' is not defined"
     ]
    }
   ],
   "source": [
    "# Create a boxplot for each variable of interest, grouped by city\n",
    "for variable in variables_of_interest:\n",
    "    plt.figure(figsize=(12, 8))\n",
    "    sns.boxplot(x='City', y='transport_value', data=filtered_data[filtered_data['Transportation'] == variable])\n",
    "    plt.title(f'Distribution of {variable} by City')\n",
    "    plt.xlabel('City')\n",
    "    plt.ylabel('Value')\n",
    "    plt.xticks(rotation=90)\n",
    "    plt.show()"
   ]
  },
  {
   "cell_type": "markdown",
   "metadata": {},
   "source": [
    "#### 2.3.2 Correlation Matrix between air quality and transportation means"
   ]
  },
  {
   "cell_type": "markdown",
   "metadata": {},
   "source": [
    "<span style=\"color:red\"> NOTE FROM LAURA: IS THIS CORRECTLY CODED?</span>"
   ]
  },
  {
   "cell_type": "code",
   "execution_count": 19,
   "metadata": {
    "scrolled": false
   },
   "outputs": [
    {
     "ename": "NameError",
     "evalue": "name 'filtered_data' is not defined",
     "output_type": "error",
     "traceback": [
      "\u001b[1;31m---------------------------------------------------------------------------\u001b[0m",
      "\u001b[1;31mNameError\u001b[0m                                 Traceback (most recent call last)",
      "Cell \u001b[1;32mIn[19], line 2\u001b[0m\n\u001b[0;32m      1\u001b[0m \u001b[39m# Reshape the filtered dataset to have one row per city and year, with columns for each variable of interest\u001b[39;00m\n\u001b[1;32m----> 2\u001b[0m pivot_data \u001b[39m=\u001b[39m filtered_data\u001b[39m.\u001b[39mpivot_table(index\u001b[39m=\u001b[39m[\u001b[39m'\u001b[39m\u001b[39mCity\u001b[39m\u001b[39m'\u001b[39m, \u001b[39m'\u001b[39m\u001b[39mdate_label\u001b[39m\u001b[39m'\u001b[39m], columns\u001b[39m=\u001b[39m[\u001b[39m'\u001b[39m\u001b[39mTransportation\u001b[39m\u001b[39m'\u001b[39m], values\u001b[39m=\u001b[39m\u001b[39m'\u001b[39m\u001b[39mtransport_value\u001b[39m\u001b[39m'\u001b[39m, aggfunc\u001b[39m=\u001b[39mnp\u001b[39m.\u001b[39mmean)\u001b[39m.\u001b[39mreset_index()\n\u001b[0;32m      4\u001b[0m \u001b[39m# Add the 'Air Quality' column to the pivot table\u001b[39;00m\n\u001b[0;32m      5\u001b[0m pivot_data[\u001b[39m'\u001b[39m\u001b[39mAir Quality\u001b[39m\u001b[39m'\u001b[39m] \u001b[39m=\u001b[39m air_quality_df_poor[\u001b[39m'\u001b[39m\u001b[39mair_value\u001b[39m\u001b[39m'\u001b[39m]\n",
      "\u001b[1;31mNameError\u001b[0m: name 'filtered_data' is not defined"
     ]
    }
   ],
   "source": [
    "# Reshape the filtered dataset to have one row per city and year, with columns for each variable of interest\n",
    "pivot_data = filtered_data.pivot_table(index=['City', 'date_label'], columns=['Transportation'], values='transport_value', aggfunc=np.mean).reset_index()\n",
    "\n",
    "# Add the 'Air Quality' column to the pivot table\n",
    "pivot_data['Air Quality'] = air_quality_df_poor['air_value']\n",
    "\n",
    "# Calculate the correlation matrix for the variables of interest, including 'Air Quality'\n",
    "variables_of_interest = ['Air Quality', 'Public Transportation Use', 'Drives Alone to Work', 'Walking to Work', 'Riding Bike to Work']\n",
    "correlation_matrix = pivot_data[variables_of_interest].corr()\n",
    "\n",
    "# Visualize the correlation matrix using a heatmap\n",
    "plt.figure(figsize=(10, 10))\n",
    "sns.heatmap(correlation_matrix, annot=True, cmap='coolwarm', square=True)\n",
    "plt.title('Correlation Matrix of Air Quality and Transportation Methods')\n",
    "plt.show()"
   ]
  },
  {
   "cell_type": "markdown",
   "metadata": {},
   "source": [
    "**There seems to be** some interesting correlations. \n",
    "\n",
    "> But before we lock in on our proposedly important independent features: **[Public Transportation Use, Drives Alone to Work, Walking to Work, Riding Bike to Work]**, we must try to identify other features that have relationships to our target feature **\"Air Quality\"**."
   ]
  },
  {
   "cell_type": "code",
   "execution_count": 20,
   "metadata": {},
   "outputs": [],
   "source": [
    "# Do feature selection with Air Quality as target\n",
    "\n"
   ]
  },
  {
   "cell_type": "code",
   "execution_count": null,
   "metadata": {},
   "outputs": [],
   "source": []
  },
  {
   "cell_type": "markdown",
   "metadata": {},
   "source": [
    "**What if we split the data into one dataset per. city?**"
   ]
  },
  {
   "cell_type": "code",
   "execution_count": null,
   "metadata": {},
   "outputs": [],
   "source": []
  },
  {
   "cell_type": "markdown",
   "metadata": {},
   "source": [
    "## 3. Data analysis\n",
    "- Describe your data analysis and explain what you've learned about the dataset.\n",
    "- If relevant, talk about your machine-learning.\n"
   ]
  },
  {
   "cell_type": "markdown",
   "metadata": {},
   "source": [
    ">**Clustering**:\n",
    "\n",
    "*See whether there are any similarities or groups* "
   ]
  },
  {
   "cell_type": "code",
   "execution_count": 21,
   "metadata": {},
   "outputs": [
    {
     "ename": "NameError",
     "evalue": "name 'air_quality_df_poor' is not defined",
     "output_type": "error",
     "traceback": [
      "\u001b[1;31m---------------------------------------------------------------------------\u001b[0m",
      "\u001b[1;31mNameError\u001b[0m                                 Traceback (most recent call last)",
      "Cell \u001b[1;32mIn[21], line 1\u001b[0m\n\u001b[1;32m----> 1\u001b[0m air_quality_df_poor\n",
      "\u001b[1;31mNameError\u001b[0m: name 'air_quality_df_poor' is not defined"
     ]
    }
   ],
   "source": [
    "air_quality_df_poor"
   ]
  },
  {
   "cell_type": "code",
   "execution_count": 22,
   "metadata": {},
   "outputs": [
    {
     "ename": "NameError",
     "evalue": "name 'air_quality_df_poor' is not defined",
     "output_type": "error",
     "traceback": [
      "\u001b[1;31m---------------------------------------------------------------------------\u001b[0m",
      "\u001b[1;31mNameError\u001b[0m                                 Traceback (most recent call last)",
      "Cell \u001b[1;32mIn[22], line 2\u001b[0m\n\u001b[0;32m      1\u001b[0m \u001b[39mfrom\u001b[39;00m \u001b[39msklearn\u001b[39;00m\u001b[39m.\u001b[39;00m\u001b[39mpreprocessing\u001b[39;00m \u001b[39mimport\u001b[39;00m StandardScaler\n\u001b[1;32m----> 2\u001b[0m unique_values \u001b[39m=\u001b[39m \u001b[39mlist\u001b[39m(air_quality_df_poor[\u001b[39m'\u001b[39m\u001b[39mTransportation\u001b[39m\u001b[39m'\u001b[39m]\u001b[39m.\u001b[39munique())\n\u001b[0;32m      3\u001b[0m \u001b[39m# create a dictionary mapping each unique value to a corresponding integer value\u001b[39;00m\n\u001b[0;32m      4\u001b[0m value_map \u001b[39m=\u001b[39m {value: i\u001b[39m*\u001b[39m\u001b[39m10\u001b[39m \u001b[39mfor\u001b[39;00m i, value \u001b[39min\u001b[39;00m \u001b[39menumerate\u001b[39m(unique_values)}\n",
      "\u001b[1;31mNameError\u001b[0m: name 'air_quality_df_poor' is not defined"
     ]
    }
   ],
   "source": [
    "unique_values = list(air_quality_df_poor['Transportation'].unique())\n",
    "# create a dictionary mapping each unique value to a corresponding integer value\n",
    "value_map = {value: i*10 for i, value in enumerate(unique_values)}\n",
    "air_quality_df_poor['Transport_int'] = air_quality_df_poor['Transportation'].map(value_map)\n",
    "\n",
    "scaler = StandardScaler()\n",
    "my_data = air_quality_df_poor[['air_value', 'transport_value']]\n",
    "X = scaler.fit_transform(my_data.values)\n",
    "wss = []\n",
    "for i in range(1,11):\n",
    "    cluster = KMeans(n_clusters=i,init='random',n_init=10, max_iter=300,tol=1e-04, random_state=0)\n",
    "    cluster.fit(X)\n",
    "    wss.append(cluster.inertia_)\n",
    "plt.plot(range(1,11),wss,marker ='o')\n"
   ]
  },
  {
   "cell_type": "code",
   "execution_count": 23,
   "metadata": {},
   "outputs": [
    {
     "ename": "NameError",
     "evalue": "name 'KMeans' is not defined",
     "output_type": "error",
     "traceback": [
      "\u001b[1;31m---------------------------------------------------------------------------\u001b[0m",
      "\u001b[1;31mNameError\u001b[0m                                 Traceback (most recent call last)",
      "Cell \u001b[1;32mIn[23], line 1\u001b[0m\n\u001b[1;32m----> 1\u001b[0m cluster_final \u001b[39m=\u001b[39m KMeans(n_clusters\u001b[39m=\u001b[39m\u001b[39m3\u001b[39m)\n\u001b[0;32m      2\u001b[0m pred \u001b[39m=\u001b[39m cluster_final\u001b[39m.\u001b[39mfit_predict(X)\n\u001b[0;32m      3\u001b[0m air_quality_df_poor[\u001b[39m'\u001b[39m\u001b[39mpredict\u001b[39m\u001b[39m'\u001b[39m] \u001b[39m=\u001b[39m pred\n",
      "\u001b[1;31mNameError\u001b[0m: name 'KMeans' is not defined"
     ]
    }
   ],
   "source": [
    "cluster_final = KMeans(n_clusters=3)\n",
    "pred = cluster_final.fit_predict(X)\n",
    "air_quality_df_poor['predict'] = pred\n",
    "air_quality_df_poor"
   ]
  },
  {
   "cell_type": "code",
   "execution_count": 24,
   "metadata": {},
   "outputs": [
    {
     "ename": "NameError",
     "evalue": "name 'plt' is not defined",
     "output_type": "error",
     "traceback": [
      "\u001b[1;31m---------------------------------------------------------------------------\u001b[0m",
      "\u001b[1;31mNameError\u001b[0m                                 Traceback (most recent call last)",
      "Cell \u001b[1;32mIn[24], line 2\u001b[0m\n\u001b[0;32m      1\u001b[0m \u001b[39m#plotting the results:\u001b[39;00m\n\u001b[1;32m----> 2\u001b[0m plt\u001b[39m.\u001b[39mscatter(air_quality_df_poor[\u001b[39m'\u001b[39m\u001b[39mair_value\u001b[39m\u001b[39m'\u001b[39m] , air_quality_df_poor[\u001b[39m'\u001b[39m\u001b[39mtransport_value\u001b[39m\u001b[39m'\u001b[39m], c\u001b[39m=\u001b[39mpd\u001b[39m.\u001b[39mfactorize(air_quality_df_poor[\u001b[39m'\u001b[39m\u001b[39mpredict\u001b[39m\u001b[39m'\u001b[39m])[\u001b[39m0\u001b[39m])\n\u001b[0;32m      3\u001b[0m plt\u001b[39m.\u001b[39mlegend()\n\u001b[0;32m      4\u001b[0m plt\u001b[39m.\u001b[39mshow()\n",
      "\u001b[1;31mNameError\u001b[0m: name 'plt' is not defined"
     ]
    }
   ],
   "source": [
    "#plotting the results:\n",
    "plt.scatter(air_quality_df_poor['air_value'] , air_quality_df_poor['transport_value'], c=pd.factorize(air_quality_df_poor['predict'])[0])\n",
    "plt.legend()\n",
    "plt.show()\n"
   ]
  },
  {
   "cell_type": "code",
   "execution_count": 25,
   "metadata": {},
   "outputs": [
    {
     "ename": "NameError",
     "evalue": "name 'X' is not defined",
     "output_type": "error",
     "traceback": [
      "\u001b[1;31m---------------------------------------------------------------------------\u001b[0m",
      "\u001b[1;31mNameError\u001b[0m                                 Traceback (most recent call last)",
      "Cell \u001b[1;32mIn[25], line 7\u001b[0m\n\u001b[0;32m      4\u001b[0m agg \u001b[39m=\u001b[39m AgglomerativeClustering(n_clusters\u001b[39m=\u001b[39m\u001b[39m3\u001b[39m)\n\u001b[0;32m      6\u001b[0m \u001b[39m# Fit the clustering algorithm to the data\u001b[39;00m\n\u001b[1;32m----> 7\u001b[0m agg\u001b[39m.\u001b[39mfit(X)\n\u001b[0;32m      9\u001b[0m \u001b[39m# Extract the labels assigned to each data point\u001b[39;00m\n\u001b[0;32m     10\u001b[0m labels \u001b[39m=\u001b[39m agg\u001b[39m.\u001b[39mlabels_\n",
      "\u001b[1;31mNameError\u001b[0m: name 'X' is not defined"
     ]
    }
   ],
   "source": [
    "\n",
    "# Define the clustering algorithm\n",
    "agg = AgglomerativeClustering(n_clusters=3)\n",
    "\n",
    "# Fit the clustering algorithm to the data\n",
    "agg.fit(X)\n",
    "\n",
    "# Extract the labels assigned to each data point\n",
    "labels = agg.labels_\n",
    "# plot the resulting clusters\n",
    "plt.scatter(air_quality_df_poor['air_value'] , air_quality_df_poor['transport_value'], c=labels)\n",
    "plt.show()"
   ]
  },
  {
   "cell_type": "code",
   "execution_count": 26,
   "metadata": {},
   "outputs": [
    {
     "ename": "NameError",
     "evalue": "name 'X' is not defined",
     "output_type": "error",
     "traceback": [
      "\u001b[1;31m---------------------------------------------------------------------------\u001b[0m",
      "\u001b[1;31mNameError\u001b[0m                                 Traceback (most recent call last)",
      "Cell \u001b[1;32mIn[26], line 7\u001b[0m\n\u001b[0;32m      4\u001b[0m gmm \u001b[39m=\u001b[39m GaussianMixture(n_components\u001b[39m=\u001b[39m\u001b[39m3\u001b[39m)\n\u001b[0;32m      6\u001b[0m \u001b[39m# Fit the clustering algorithm to the data\u001b[39;00m\n\u001b[1;32m----> 7\u001b[0m gmm\u001b[39m.\u001b[39mfit(X)\n\u001b[0;32m      9\u001b[0m \u001b[39m# Extract the labels assigned to each data point\u001b[39;00m\n\u001b[0;32m     10\u001b[0m labels \u001b[39m=\u001b[39m gmm\u001b[39m.\u001b[39mpredict(X)\n",
      "\u001b[1;31mNameError\u001b[0m: name 'X' is not defined"
     ]
    }
   ],
   "source": [
    "\n",
    "# Define the clustering algorithm\n",
    "gmm = GaussianMixture(n_components=3)\n",
    "\n",
    "# Fit the clustering algorithm to the data\n",
    "gmm.fit(X)\n",
    "\n",
    "# Extract the labels assigned to each data point\n",
    "labels = gmm.predict(X)\n",
    "# plot the resulting clusters\n",
    "plt.scatter(air_quality_df_poor['air_value'] , air_quality_df_poor['transport_value'], c=labels)\n",
    "plt.show()"
   ]
  },
  {
   "cell_type": "markdown",
   "metadata": {},
   "source": [
    ">**Regression**: **Predict poor air quality based on transportation methods**\n",
    "\n",
    "*Check the 2-5 cities who's air quality has gone up/down the most and do further analysis on these* "
   ]
  },
  {
   "cell_type": "code",
   "execution_count": 27,
   "metadata": {},
   "outputs": [
    {
     "ename": "NameError",
     "evalue": "name 'pd' is not defined",
     "output_type": "error",
     "traceback": [
      "\u001b[1;31m---------------------------------------------------------------------------\u001b[0m",
      "\u001b[1;31mNameError\u001b[0m                                 Traceback (most recent call last)",
      "Cell \u001b[1;32mIn[27], line 9\u001b[0m\n\u001b[0;32m      6\u001b[0m num_classes \u001b[39m=\u001b[39m \u001b[39m5\u001b[39m\n\u001b[0;32m      8\u001b[0m \u001b[39m# Use pd.cut() to create bins for the continuous variable\u001b[39;00m\n\u001b[1;32m----> 9\u001b[0m bins \u001b[39m=\u001b[39m pd\u001b[39m.\u001b[39mcut(air_quality_df_poor[\u001b[39m'\u001b[39m\u001b[39mair_value\u001b[39m\u001b[39m'\u001b[39m], num_classes, labels\u001b[39m=\u001b[39m\u001b[39mFalse\u001b[39;00m)\n\u001b[0;32m     11\u001b[0m \u001b[39m# Assign the bin labels to the Y variable\u001b[39;00m\n\u001b[0;32m     12\u001b[0m air_quality_df_poor[\u001b[39m'\u001b[39m\u001b[39mair_label\u001b[39m\u001b[39m'\u001b[39m] \u001b[39m=\u001b[39m bins\n",
      "\u001b[1;31mNameError\u001b[0m: name 'pd' is not defined"
     ]
    }
   ],
   "source": [
    "\n",
    "\n",
    "# Specify the number of classes you want\n",
    "num_classes = 5\n",
    "\n",
    "# Use pd.cut() to create bins for the continuous variable\n",
    "bins = pd.cut(air_quality_df_poor['air_value'], num_classes, labels=False)\n",
    "\n",
    "# Assign the bin labels to the Y variable\n",
    "air_quality_df_poor['air_label'] = bins\n",
    "\n",
    "# Select relevant columns\n",
    "X = air_quality_df_poor[['transport_value', 'Transportation']]\n",
    "y = air_quality_df_poor['air_label']\n",
    "\n",
    "\n",
    "# Convert categorical variables to numerical using one-hot encoding\n",
    "X = pd.get_dummies(X, columns=['Transportation'])\n",
    "\n",
    "# Split the data into training and testing sets\n",
    "X_train, X_test, y_train, y_test = train_test_split(X, y, test_size=0.3)\n",
    "\n",
    "# Fit a logistic regression model to the training data\n",
    "model = LogisticRegression()\n",
    "model.fit(X_train, y_train)\n",
    "\n",
    "# Predict air quality values for the test data\n",
    "y_pred = model.predict(X_test)\n",
    "\n",
    "# Evaluate the performance of the model\n",
    "score = model.score(X_test, y_test)\n",
    "print('Accuracy:', score)\n",
    "# Calculate the F1 score for each class and average them using 'macro' averaging\n",
    "f1_macro = f1_score(y_test, y_pred, average='macro')\n",
    "\n",
    "# Print the F1 score\n",
    "print(\"F1 score (macro-averaged):\", f1_macro)"
   ]
  },
  {
   "cell_type": "markdown",
   "metadata": {},
   "source": [
    "## 4. Genre. Which genre of data story did you use?\n",
    "- Which tools did you use from each of the 3 categories of Visual Narrative (Figure 7 in Segal and Heer). Why?\n",
    "- Which tools did you use from each of the 3 categories of Narrative Structure (Figure 7 in Segal and Heer). Why?\n"
   ]
  },
  {
   "cell_type": "markdown",
   "metadata": {},
   "source": [
    "## 5. Final visualization\n",
    "- Explain the visualizations you've chosen.\n",
    "- Why are they right for the story you want to tell?"
   ]
  },
  {
   "cell_type": "markdown",
   "metadata": {},
   "source": [
    "## 6. Discussion. Think critically about your creation\n",
    "- What went well?,\n",
    "- What is still missing? What could be improved?, Why?\n"
   ]
  },
  {
   "cell_type": "markdown",
   "metadata": {},
   "source": [
    "## 7. Contributions. Who did what?\n",
    "You should write (just briefly) which group member was the main responsible for which elements of the assignment. (I want you guys to understand every part of the assignment, but usually there is someone who took lead role on certain portions of the work. That's what you should explain).\n",
    "It is not OK simply to write \"All group members contributed equally\".\n"
   ]
  },
  {
   "cell_type": "markdown",
   "metadata": {},
   "source": [
    "## 8. Make sure that you use references when they're needed and follow academic standards."
   ]
  }
 ],
 "metadata": {
  "kernelspec": {
   "display_name": "Python 3 (ipykernel)",
   "language": "python",
   "name": "python3"
  },
  "language_info": {
   "codemirror_mode": {
    "name": "ipython",
    "version": 3
   },
   "file_extension": ".py",
   "mimetype": "text/x-python",
   "name": "python",
   "nbconvert_exporter": "python",
   "pygments_lexer": "ipython3",
   "version": "3.11.0"
  }
 },
 "nbformat": 4,
 "nbformat_minor": 2
}

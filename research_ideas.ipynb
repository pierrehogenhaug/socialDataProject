{
 "cells": [
  {
   "attachments": {},
   "cell_type": "markdown",
   "metadata": {},
   "source": [
    "> ### 1. Assessing the Influence of Socioeconomic Factors on Violent Crime Rates in Urban Settings\n",
    "\n",
    "**Objective**: Investigate the relationship between various socioeconomic factors and violent crime rates in major cities to better understand the potential drivers of criminal activity.\n",
    "\n",
    "**Target Variable**: 'Crime Incidents' (from metric_subcat_label)\n",
    "\n",
    "**Relevant Independent Variables** (from metric_item_label):\n",
    "- 'Poverty in All Ages'\n",
    "- 'Unemployment'\n",
    "- 'Educational Attainment'\n",
    "- 'Income Inequality'\n",
    "- 'Racial Segregation Indices'\n"
   ]
  },
  {
   "attachments": {},
   "cell_type": "markdown",
   "metadata": {},
   "source": [
    "> ### 2. Analyzing the Impact of Education and Income on Chronic Health Conditions in Urban Populations\n",
    "\n",
    "**Objective**: Investigate the association between education, income, and chronic health conditions in major cities to understand the potential influence of socioeconomic factors on public health.\n",
    "\n",
    "**Target Variable**: 'Chronic Health Conditions' (from metric_subcat_label)\n",
    "\n",
    "**Relevant Independent Variables** (from metric_item_label):\n",
    "- 'Educational Attainment'\n",
    "- 'Household Income Inequality'\n",
    "- 'Poverty in All Ages'\n",
    "- 'Unemployment'\n",
    "- 'Health Insurance'\n"
   ]
  },
  {
   "attachments": {},
   "cell_type": "markdown",
   "metadata": {},
   "source": [
    "> ### 3. The Impact of Transportation Methods on Air Quality in Big Cities\n",
    "\n",
    "**Objective**: To analyze the relationship between transportation habits and air quality in urban areas to promote sustainable transportation options.\n",
    "\n",
    "**Target Variable**: Air Quality (from metric_subcat_label)\n",
    "\n",
    "**Relevant Independent Variables** (from metric_item_label):\n",
    "- Public Transportation Use, \n",
    "- Drives Alone to Work, \n",
    "- Walking to Work, \n",
    "- Riding Bike to Work (from metric_item_label)\n"
   ]
  },
  {
   "cell_type": "code",
   "execution_count": null,
   "metadata": {},
   "outputs": [],
   "source": []
  }
 ],
 "metadata": {
  "kernelspec": {
   "display_name": "Python 3",
   "language": "python",
   "name": "python3"
  },
  "language_info": {
   "codemirror_mode": {
    "name": "ipython",
    "version": 3
   },
   "file_extension": ".py",
   "mimetype": "text/x-python",
   "name": "python",
   "nbconvert_exporter": "python",
   "pygments_lexer": "ipython3",
   "version": "3.10.10"
  },
  "orig_nbformat": 4
 },
 "nbformat": 4,
 "nbformat_minor": 2
}

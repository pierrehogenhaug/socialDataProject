{
 "cells": [
  {
   "cell_type": "code",
   "execution_count": 1,
   "metadata": {},
   "outputs": [],
   "source": [
    "import pandas as pd"
   ]
  },
  {
   "cell_type": "code",
   "execution_count": 2,
   "metadata": {},
   "outputs": [
    {
     "name": "stderr",
     "output_type": "stream",
     "text": [
      "C:\\Users\\pih\\AppData\\Local\\Temp\\ipykernel_11996\\3057167449.py:3: DtypeWarning: Columns (17) have mixed types. Specify dtype option on import or set low_memory=False.\n",
      "  df = pd.read_csv('BigCitiesHealth.csv')\n"
     ]
    },
    {
     "name": "stdout",
     "output_type": "stream",
     "text": [
      "<class 'pandas.core.frame.DataFrame'>\n",
      "RangeIndex: 170725 entries, 0 to 170724\n",
      "Data columns (total 31 columns):\n",
      " #   Column                           Non-Null Count   Dtype  \n",
      "---  ------                           --------------   -----  \n",
      " 0   metric_item_label                170725 non-null  object \n",
      " 1   metric_cat_label                 170725 non-null  object \n",
      " 2   metric_subcat_label              170725 non-null  object \n",
      " 3   metric_item_label_subtitle       170725 non-null  object \n",
      " 4   metric_cat_item_yaxis_label      170725 non-null  object \n",
      " 5   metric_source_desc_label_fn      170725 non-null  object \n",
      " 6   metric_source_desc_label_url_fn  170725 non-null  object \n",
      " 7   geo_label_city                   170725 non-null  object \n",
      " 8   geo_label_state                  169516 non-null  object \n",
      " 9   geo_label_citystate              170725 non-null  object \n",
      " 10  geo_fips_code                    169516 non-null  float64\n",
      " 11  value                            169957 non-null  float64\n",
      " 12  date_label                       170725 non-null  int64  \n",
      " 13  geo_label_proxy_or_real          170725 non-null  object \n",
      " 14  geo_label_proxy_footnote         16078 non-null   object \n",
      " 15  geo_fips_desc                    170725 non-null  object \n",
      " 16  date_label_proxy_or_real         170725 non-null  object \n",
      " 17  date_label_proxy_footnote        48275 non-null   object \n",
      " 18  value_ci_flag_yesno              170725 non-null  object \n",
      " 19  value_95_ci_low                  110314 non-null  float64\n",
      " 20  value_95_ci_high                 110325 non-null  float64\n",
      " 21  value_90_ci_low                  0 non-null       float64\n",
      " 22  value_90_ci_high                 0 non-null       float64\n",
      " 23  geo_strata_region                169516 non-null  object \n",
      " 24  geo_strata_poverty               169516 non-null  object \n",
      " 25  geo_strata_Population            169516 non-null  object \n",
      " 26  geo_strata_PopDensity            169516 non-null  object \n",
      " 27  geo_strata_Segregation           169516 non-null  object \n",
      " 28  strata_race_label                170725 non-null  object \n",
      " 29  strata_sex_label                 170725 non-null  object \n",
      " 30  strata_race_sex_label            41498 non-null   object \n",
      "dtypes: float64(6), int64(1), object(24)\n",
      "memory usage: 40.4+ MB\n"
     ]
    }
   ],
   "source": [
    "# dataset: https://bigcitieshealthdata.org/\n",
    "\n",
    "df = pd.read_csv('BigCitiesHealth.csv')\n",
    "df.info()"
   ]
  },
  {
   "cell_type": "code",
   "execution_count": 3,
   "metadata": {},
   "outputs": [
    {
     "name": "stdout",
     "output_type": "stream",
     "text": [
      "['People with Disabilities', 'Unemployment', 'Uninsured, Child', 'Per-capita Household Income', 'Poverty in All Ages', 'HIV/AIDS Prevalence', 'Poverty in Children', 'Limited Supermarket Access', 'Foreign Born Population', 'Riding Bike to Work', 'Teen Mental Distress', 'Adult Obesity', 'High Blood Pressure', 'Opioid Overdose Deaths', 'Hazardous Air Quality', 'Housing Lead Risk', 'Teen Soda', 'Racial Segregation, White and Non-White', 'Excessive Housing Cost', 'Firearm Deaths', 'Teen Obesity', 'New Tuberculosis Cases', 'Poor Air Quality', 'Teen Alcohol', 'Homelessness and Vacant Housing', 'Teen Birth Control', 'Low Birthweight', 'Teen Computer Time', 'Household Income Inequality', 'Homelessness, Non-White', 'Heart Disease Deaths', 'Income Inequality', 'Syphilis Prevalence', 'Teen TV Time', 'Vacant Housing Units', 'Teen Breakfast', 'Teen Births', 'Racial Segregation, White and Asian', 'Electronic Bullying', 'COVID-19 Vaccination, Seniors', 'Homicides', 'Teen Physical Activity Levels', 'Deaths from All Causes', 'Primarily Speak English', 'Injury Deaths', 'Dental Care', 'Weapons in School', 'Violent Crime', 'Breast Cancer Deaths', 'Racial Segregation, White and Hispanic', 'Primarily Speak Chinese', 'Racial Disparity in Police Killings', 'COVID-19 Vaccination, Adults', 'Child Lead Testing', 'Poverty and Near Poverty in All Ages', 'COVID-19 Deaths', 'Premature Death', 'Teen Asthma', 'Drug Overdose Deaths', 'Households with Higher-Incomes', 'Public Assistance', 'Seniors', 'Teen Smoking', 'Teen Marijuana', 'Public Transportation Use', 'Teen Physical Inactivity', 'Infant Deaths', 'Teen Physical Education', 'Service Workers', 'Walking to Work', 'Uninsured, All Ages', 'Lung Cancer Deaths', 'Flu Vaccinations, Medicare', 'Adult Mental Distress', 'Primarily Speak Spanish', 'Drives Alone to Work', 'Child Lead Levels 5+ mcg/dL', 'Preterm Births', 'Homelessness, Children', 'Diabetes Deaths', 'Prenatal Care', 'Teen Suicidal Ideation', 'School Bullying', 'Racial Segregation, White and Black', 'Children', 'Minority Population', 'Maternal Deaths', 'Pneumonia or Influenza Deaths', 'Colorectal Cancer Deaths', 'Lack of Car', 'Suicide', 'All Cancer Deaths', 'Child Lead Levels 10+ mcg/dL', 'Fighting in School', 'HIV-Related Deaths', 'Longer Driving Commute Time', 'Cardiovascular Disease Deaths', 'Prostate Cancer Deaths', 'Motor Vehicle Deaths', 'Preschool Enrollment', 'Population Density', 'Adult Binge Drinking', 'Renters vs. Owners', 'Life Expectancy', 'Adult Smoking', 'Diabetes', 'Adult Physical Inactivity', 'Single-Parent Families', 'New Gonorrhea Cases', 'College Graduates', 'Syphilis, Newborns', 'Police Killings', 'Owner Occupied Housing', 'New Chlamydia Cases']\n",
      "['Access to Health Services', 'Physical and Built Environment', 'Life Expectancy and Deaths', 'Maternal and Child Health', 'Chronic Health Conditions', 'Demographics', 'Social and Economic Factors', 'Mental Health and Substance Use', 'Violence and Injury', 'Infectious Diseases', 'Poisoning']\n",
      "['Income', 'Disability', 'Oral Health', 'School Violence', 'Active Transportation', 'Diabetes and Obesity', 'Birth Control', 'Income Inequality', 'Respiratory Infection', 'Physical Activity', 'Life Expectancy at Birth', 'Respiratory Disease', 'Food Access', 'Cancer', 'Racial Segregation Indices', 'Deaths', 'Transportation', 'Language and Nativity', 'Income-related', 'Cardiovascular Disease', 'Births', 'Population', 'Dietary Quality', 'Crime Incidents', 'Air Quality', 'Substance Use', 'Housing', 'Race/Ethnicity', 'Education', 'Health Insurance', 'Lead Poisoning', 'Mental Health', 'Sexually Transmitted Disease']\n"
     ]
    }
   ],
   "source": [
    "metric_item_label   = list(set(df['metric_item_label'].values))\n",
    "metric_cat_label    = list(set(df['metric_cat_label'].values))\n",
    "metric_subcat_label = list(set(df['metric_subcat_label'].values))\n",
    "print(metric_item_label)\n",
    "print(metric_cat_label)\n",
    "print(metric_subcat_label)"
   ]
  },
  {
   "cell_type": "code",
   "execution_count": null,
   "metadata": {},
   "outputs": [],
   "source": []
  },
  {
   "cell_type": "code",
   "execution_count": null,
   "metadata": {},
   "outputs": [],
   "source": []
  },
  {
   "cell_type": "code",
   "execution_count": null,
   "metadata": {},
   "outputs": [],
   "source": []
  }
 ],
 "metadata": {
  "kernelspec": {
   "display_name": "Python 3",
   "language": "python",
   "name": "python3"
  },
  "language_info": {
   "codemirror_mode": {
    "name": "ipython",
    "version": 3
   },
   "file_extension": ".py",
   "mimetype": "text/x-python",
   "name": "python",
   "nbconvert_exporter": "python",
   "pygments_lexer": "ipython3",
   "version": "3.10.10"
  },
  "orig_nbformat": 4
 },
 "nbformat": 4,
 "nbformat_minor": 2
}
